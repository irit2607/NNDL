{
  "nbformat": 4,
  "nbformat_minor": 0,
  "metadata": {
    "colab": {
      "name": "Cust.ipynb",
      "provenance": [],
      "authorship_tag": "ABX9TyM45o/LBJUGhFjnZTbWjER3",
      "include_colab_link": true
    },
    "kernelspec": {
      "name": "python3",
      "display_name": "Python 3"
    },
    "language_info": {
      "name": "python"
    }
  },
  "cells": [
    {
      "cell_type": "markdown",
      "metadata": {
        "id": "view-in-github",
        "colab_type": "text"
      },
      "source": [
        "<a href=\"https://colab.research.google.com/github/irit2607/NNDL-LAB/blob/main/Cust.ipynb\" target=\"_parent\"><img src=\"https://colab.research.google.com/assets/colab-badge.svg\" alt=\"Open In Colab\"/></a>"
      ]
    },
    {
      "cell_type": "code",
      "execution_count": null,
      "metadata": {
        "colab": {
          "base_uri": "https://localhost:8080/"
        },
        "id": "-8Rs2L1NDlZk",
        "outputId": "2b621ab4-8b27-41e5-abe1-349820395bef"
      },
      "outputs": [
        {
          "output_type": "stream",
          "name": "stdout",
          "text": [
            "Collecting tensorflow==2.0\n",
            "  Downloading tensorflow-2.0.0-cp37-cp37m-manylinux2010_x86_64.whl (86.3 MB)\n",
            "\u001b[K     |████████████████████████████████| 86.3 MB 41 kB/s \n",
            "\u001b[?25hRequirement already satisfied: absl-py>=0.7.0 in /usr/local/lib/python3.7/dist-packages (from tensorflow==2.0) (1.0.0)\n",
            "Collecting tensorboard<2.1.0,>=2.0.0\n",
            "  Downloading tensorboard-2.0.2-py3-none-any.whl (3.8 MB)\n",
            "\u001b[K     |████████████████████████████████| 3.8 MB 43.0 MB/s \n",
            "\u001b[?25hRequirement already satisfied: keras-preprocessing>=1.0.5 in /usr/local/lib/python3.7/dist-packages (from tensorflow==2.0) (1.1.2)\n",
            "Requirement already satisfied: termcolor>=1.1.0 in /usr/local/lib/python3.7/dist-packages (from tensorflow==2.0) (1.1.0)\n",
            "Requirement already satisfied: wheel>=0.26 in /usr/local/lib/python3.7/dist-packages (from tensorflow==2.0) (0.37.1)\n",
            "Requirement already satisfied: grpcio>=1.8.6 in /usr/local/lib/python3.7/dist-packages (from tensorflow==2.0) (1.44.0)\n",
            "Collecting keras-applications>=1.0.8\n",
            "  Downloading Keras_Applications-1.0.8-py3-none-any.whl (50 kB)\n",
            "\u001b[K     |████████████████████████████████| 50 kB 6.0 MB/s \n",
            "\u001b[?25hRequirement already satisfied: opt-einsum>=2.3.2 in /usr/local/lib/python3.7/dist-packages (from tensorflow==2.0) (3.3.0)\n",
            "Collecting tensorflow-estimator<2.1.0,>=2.0.0\n",
            "  Downloading tensorflow_estimator-2.0.1-py2.py3-none-any.whl (449 kB)\n",
            "\u001b[K     |████████████████████████████████| 449 kB 61.7 MB/s \n",
            "\u001b[?25hRequirement already satisfied: wrapt>=1.11.1 in /usr/local/lib/python3.7/dist-packages (from tensorflow==2.0) (1.13.3)\n",
            "Collecting gast==0.2.2\n",
            "  Downloading gast-0.2.2.tar.gz (10 kB)\n",
            "Requirement already satisfied: google-pasta>=0.1.6 in /usr/local/lib/python3.7/dist-packages (from tensorflow==2.0) (0.2.0)\n",
            "Requirement already satisfied: six>=1.10.0 in /usr/local/lib/python3.7/dist-packages (from tensorflow==2.0) (1.15.0)\n",
            "Requirement already satisfied: numpy<2.0,>=1.16.0 in /usr/local/lib/python3.7/dist-packages (from tensorflow==2.0) (1.21.5)\n",
            "Requirement already satisfied: protobuf>=3.6.1 in /usr/local/lib/python3.7/dist-packages (from tensorflow==2.0) (3.17.3)\n",
            "Requirement already satisfied: astor>=0.6.0 in /usr/local/lib/python3.7/dist-packages (from tensorflow==2.0) (0.8.1)\n",
            "Requirement already satisfied: h5py in /usr/local/lib/python3.7/dist-packages (from keras-applications>=1.0.8->tensorflow==2.0) (3.1.0)\n",
            "Requirement already satisfied: requests<3,>=2.21.0 in /usr/local/lib/python3.7/dist-packages (from tensorboard<2.1.0,>=2.0.0->tensorflow==2.0) (2.23.0)\n",
            "Requirement already satisfied: google-auth<2,>=1.6.3 in /usr/local/lib/python3.7/dist-packages (from tensorboard<2.1.0,>=2.0.0->tensorflow==2.0) (1.35.0)\n",
            "Requirement already satisfied: werkzeug>=0.11.15 in /usr/local/lib/python3.7/dist-packages (from tensorboard<2.1.0,>=2.0.0->tensorflow==2.0) (1.0.1)\n",
            "Requirement already satisfied: markdown>=2.6.8 in /usr/local/lib/python3.7/dist-packages (from tensorboard<2.1.0,>=2.0.0->tensorflow==2.0) (3.3.6)\n",
            "Requirement already satisfied: google-auth-oauthlib<0.5,>=0.4.1 in /usr/local/lib/python3.7/dist-packages (from tensorboard<2.1.0,>=2.0.0->tensorflow==2.0) (0.4.6)\n",
            "Requirement already satisfied: setuptools>=41.0.0 in /usr/local/lib/python3.7/dist-packages (from tensorboard<2.1.0,>=2.0.0->tensorflow==2.0) (57.4.0)\n",
            "Requirement already satisfied: cachetools<5.0,>=2.0.0 in /usr/local/lib/python3.7/dist-packages (from google-auth<2,>=1.6.3->tensorboard<2.1.0,>=2.0.0->tensorflow==2.0) (4.2.4)\n",
            "Requirement already satisfied: rsa<5,>=3.1.4 in /usr/local/lib/python3.7/dist-packages (from google-auth<2,>=1.6.3->tensorboard<2.1.0,>=2.0.0->tensorflow==2.0) (4.8)\n",
            "Requirement already satisfied: pyasn1-modules>=0.2.1 in /usr/local/lib/python3.7/dist-packages (from google-auth<2,>=1.6.3->tensorboard<2.1.0,>=2.0.0->tensorflow==2.0) (0.2.8)\n",
            "Requirement already satisfied: requests-oauthlib>=0.7.0 in /usr/local/lib/python3.7/dist-packages (from google-auth-oauthlib<0.5,>=0.4.1->tensorboard<2.1.0,>=2.0.0->tensorflow==2.0) (1.3.1)\n",
            "Requirement already satisfied: importlib-metadata>=4.4 in /usr/local/lib/python3.7/dist-packages (from markdown>=2.6.8->tensorboard<2.1.0,>=2.0.0->tensorflow==2.0) (4.11.2)\n",
            "Requirement already satisfied: typing-extensions>=3.6.4 in /usr/local/lib/python3.7/dist-packages (from importlib-metadata>=4.4->markdown>=2.6.8->tensorboard<2.1.0,>=2.0.0->tensorflow==2.0) (3.10.0.2)\n",
            "Requirement already satisfied: zipp>=0.5 in /usr/local/lib/python3.7/dist-packages (from importlib-metadata>=4.4->markdown>=2.6.8->tensorboard<2.1.0,>=2.0.0->tensorflow==2.0) (3.7.0)\n",
            "Requirement already satisfied: pyasn1<0.5.0,>=0.4.6 in /usr/local/lib/python3.7/dist-packages (from pyasn1-modules>=0.2.1->google-auth<2,>=1.6.3->tensorboard<2.1.0,>=2.0.0->tensorflow==2.0) (0.4.8)\n",
            "Requirement already satisfied: idna<3,>=2.5 in /usr/local/lib/python3.7/dist-packages (from requests<3,>=2.21.0->tensorboard<2.1.0,>=2.0.0->tensorflow==2.0) (2.10)\n",
            "Requirement already satisfied: urllib3!=1.25.0,!=1.25.1,<1.26,>=1.21.1 in /usr/local/lib/python3.7/dist-packages (from requests<3,>=2.21.0->tensorboard<2.1.0,>=2.0.0->tensorflow==2.0) (1.24.3)\n",
            "Requirement already satisfied: certifi>=2017.4.17 in /usr/local/lib/python3.7/dist-packages (from requests<3,>=2.21.0->tensorboard<2.1.0,>=2.0.0->tensorflow==2.0) (2021.10.8)\n",
            "Requirement already satisfied: chardet<4,>=3.0.2 in /usr/local/lib/python3.7/dist-packages (from requests<3,>=2.21.0->tensorboard<2.1.0,>=2.0.0->tensorflow==2.0) (3.0.4)\n",
            "Requirement already satisfied: oauthlib>=3.0.0 in /usr/local/lib/python3.7/dist-packages (from requests-oauthlib>=0.7.0->google-auth-oauthlib<0.5,>=0.4.1->tensorboard<2.1.0,>=2.0.0->tensorflow==2.0) (3.2.0)\n",
            "Requirement already satisfied: cached-property in /usr/local/lib/python3.7/dist-packages (from h5py->keras-applications>=1.0.8->tensorflow==2.0) (1.5.2)\n",
            "Building wheels for collected packages: gast\n",
            "  Building wheel for gast (setup.py) ... \u001b[?25l\u001b[?25hdone\n",
            "  Created wheel for gast: filename=gast-0.2.2-py3-none-any.whl size=7554 sha256=8db278bb394d75af0922b79fab0de91ed7312ae680608f0ad0a2fd837bc54a47\n",
            "  Stored in directory: /root/.cache/pip/wheels/21/7f/02/420f32a803f7d0967b48dd823da3f558c5166991bfd204eef3\n",
            "Successfully built gast\n",
            "Installing collected packages: tensorflow-estimator, tensorboard, keras-applications, gast, tensorflow\n",
            "  Attempting uninstall: tensorflow-estimator\n",
            "    Found existing installation: tensorflow-estimator 2.8.0\n",
            "    Uninstalling tensorflow-estimator-2.8.0:\n",
            "      Successfully uninstalled tensorflow-estimator-2.8.0\n",
            "  Attempting uninstall: tensorboard\n",
            "    Found existing installation: tensorboard 2.8.0\n",
            "    Uninstalling tensorboard-2.8.0:\n",
            "      Successfully uninstalled tensorboard-2.8.0\n",
            "  Attempting uninstall: gast\n",
            "    Found existing installation: gast 0.5.3\n",
            "    Uninstalling gast-0.5.3:\n",
            "      Successfully uninstalled gast-0.5.3\n",
            "  Attempting uninstall: tensorflow\n",
            "    Found existing installation: tensorflow 2.8.0\n",
            "    Uninstalling tensorflow-2.8.0:\n",
            "      Successfully uninstalled tensorflow-2.8.0\n",
            "\u001b[31mERROR: pip's dependency resolver does not currently take into account all the packages that are installed. This behaviour is the source of the following dependency conflicts.\n",
            "tensorflow-probability 0.16.0 requires gast>=0.3.2, but you have gast 0.2.2 which is incompatible.\u001b[0m\n",
            "Successfully installed gast-0.2.2 keras-applications-1.0.8 tensorboard-2.0.2 tensorflow-2.0.0 tensorflow-estimator-2.0.1\n"
          ]
        }
      ],
      "source": [
        "!pip install tensorflow==2.0\n",
        "\n"
      ]
    },
    {
      "cell_type": "code",
      "source": [
        "import pandas as pd\n",
        "from matplotlib import pyplot as plt\n",
        "import numpy as np\n",
        "%matplotlib inline"
      ],
      "metadata": {
        "id": "GwujvGQEFN4l"
      },
      "execution_count": null,
      "outputs": []
    },
    {
      "cell_type": "code",
      "source": [
        "df = pd.read_csv('/content/Churn.csv')"
      ],
      "metadata": {
        "id": "FSC4mVK-IVHc"
      },
      "execution_count": null,
      "outputs": []
    },
    {
      "cell_type": "code",
      "source": [
        "df.drop('customerID', axis='columns', inplace=True)\n"
      ],
      "metadata": {
        "id": "QsGt1ktMKbiU"
      },
      "execution_count": null,
      "outputs": []
    },
    {
      "cell_type": "code",
      "source": [
        "df.dtypes"
      ],
      "metadata": {
        "colab": {
          "base_uri": "https://localhost:8080/"
        },
        "id": "kLBICNK0KmDU",
        "outputId": "e1f98bee-62c9-4892-9f9e-d8238c2739d2"
      },
      "execution_count": null,
      "outputs": [
        {
          "output_type": "execute_result",
          "data": {
            "text/plain": [
              "gender               object\n",
              "SeniorCitizen         int64\n",
              "Partner              object\n",
              "Dependents           object\n",
              "tenure                int64\n",
              "PhoneService         object\n",
              "MultipleLines        object\n",
              "InternetService      object\n",
              "OnlineSecurity       object\n",
              "OnlineBackup         object\n",
              "DeviceProtection     object\n",
              "TechSupport          object\n",
              "StreamingTV          object\n",
              "StreamingMovies      object\n",
              "Contract             object\n",
              "PaperlessBilling     object\n",
              "PaymentMethod        object\n",
              "MonthlyCharges      float64\n",
              "TotalCharges         object\n",
              "Churn                object\n",
              "dtype: object"
            ]
          },
          "metadata": {},
          "execution_count": 5
        }
      ]
    },
    {
      "cell_type": "code",
      "source": [
        "df.TotalCharges.values\n"
      ],
      "metadata": {
        "colab": {
          "base_uri": "https://localhost:8080/"
        },
        "id": "EoKNZMjMKn9d",
        "outputId": "37f17b46-9cd7-4cef-fe19-7ad917c31842"
      },
      "execution_count": null,
      "outputs": [
        {
          "output_type": "execute_result",
          "data": {
            "text/plain": [
              "array(['29.85', '1889.5', '108.15', ..., '346.45', '306.6', '6844.5'],\n",
              "      dtype=object)"
            ]
          },
          "metadata": {},
          "execution_count": 6
        }
      ]
    },
    {
      "cell_type": "code",
      "source": [
        "pd.to_numeric(df.TotalCharges)"
      ],
      "metadata": {
        "colab": {
          "base_uri": "https://localhost:8080/",
          "height": 328
        },
        "id": "X-3BOpT6KxrH",
        "outputId": "15c9d99a-0387-4ca9-90bb-e0b6ceb91296"
      },
      "execution_count": null,
      "outputs": [
        {
          "output_type": "error",
          "ename": "ValueError",
          "evalue": "ignored",
          "traceback": [
            "\u001b[0;31m---------------------------------------------------------------------------\u001b[0m",
            "\u001b[0;31mValueError\u001b[0m                                Traceback (most recent call last)",
            "\u001b[0;32m/usr/local/lib/python3.7/dist-packages/pandas/_libs/lib.pyx\u001b[0m in \u001b[0;36mpandas._libs.lib.maybe_convert_numeric\u001b[0;34m()\u001b[0m\n",
            "\u001b[0;31mValueError\u001b[0m: Unable to parse string \" \"",
            "\nDuring handling of the above exception, another exception occurred:\n",
            "\u001b[0;31mValueError\u001b[0m                                Traceback (most recent call last)",
            "\u001b[0;32m<ipython-input-7-06ba430a4ba5>\u001b[0m in \u001b[0;36m<module>\u001b[0;34m()\u001b[0m\n\u001b[0;32m----> 1\u001b[0;31m \u001b[0mpd\u001b[0m\u001b[0;34m.\u001b[0m\u001b[0mto_numeric\u001b[0m\u001b[0;34m(\u001b[0m\u001b[0mdf\u001b[0m\u001b[0;34m.\u001b[0m\u001b[0mTotalCharges\u001b[0m\u001b[0;34m)\u001b[0m\u001b[0;34m\u001b[0m\u001b[0;34m\u001b[0m\u001b[0m\n\u001b[0m",
            "\u001b[0;32m/usr/local/lib/python3.7/dist-packages/pandas/core/tools/numeric.py\u001b[0m in \u001b[0;36mto_numeric\u001b[0;34m(arg, errors, downcast)\u001b[0m\n\u001b[1;32m    182\u001b[0m         \u001b[0;32mtry\u001b[0m\u001b[0;34m:\u001b[0m\u001b[0;34m\u001b[0m\u001b[0;34m\u001b[0m\u001b[0m\n\u001b[1;32m    183\u001b[0m             values, _ = lib.maybe_convert_numeric(\n\u001b[0;32m--> 184\u001b[0;31m                 \u001b[0mvalues\u001b[0m\u001b[0;34m,\u001b[0m \u001b[0mset\u001b[0m\u001b[0;34m(\u001b[0m\u001b[0;34m)\u001b[0m\u001b[0;34m,\u001b[0m \u001b[0mcoerce_numeric\u001b[0m\u001b[0;34m=\u001b[0m\u001b[0mcoerce_numeric\u001b[0m\u001b[0;34m\u001b[0m\u001b[0;34m\u001b[0m\u001b[0m\n\u001b[0m\u001b[1;32m    185\u001b[0m             )\n\u001b[1;32m    186\u001b[0m         \u001b[0;32mexcept\u001b[0m \u001b[0;34m(\u001b[0m\u001b[0mValueError\u001b[0m\u001b[0;34m,\u001b[0m \u001b[0mTypeError\u001b[0m\u001b[0;34m)\u001b[0m\u001b[0;34m:\u001b[0m\u001b[0;34m\u001b[0m\u001b[0;34m\u001b[0m\u001b[0m\n",
            "\u001b[0;32m/usr/local/lib/python3.7/dist-packages/pandas/_libs/lib.pyx\u001b[0m in \u001b[0;36mpandas._libs.lib.maybe_convert_numeric\u001b[0;34m()\u001b[0m\n",
            "\u001b[0;31mValueError\u001b[0m: Unable to parse string \" \" at position 488"
          ]
        }
      ]
    },
    {
      "cell_type": "code",
      "source": [
        "pd.to_numeric(df.TotalCharges,errors='coerce').isnull()"
      ],
      "metadata": {
        "colab": {
          "base_uri": "https://localhost:8080/"
        },
        "id": "CTmFJI7pLAfN",
        "outputId": "d4388bb9-59d4-4481-e656-3fec8df11686"
      },
      "execution_count": null,
      "outputs": [
        {
          "output_type": "execute_result",
          "data": {
            "text/plain": [
              "0       False\n",
              "1       False\n",
              "2       False\n",
              "3       False\n",
              "4       False\n",
              "        ...  \n",
              "7038    False\n",
              "7039    False\n",
              "7040    False\n",
              "7041    False\n",
              "7042    False\n",
              "Name: TotalCharges, Length: 7043, dtype: bool"
            ]
          },
          "metadata": {},
          "execution_count": 10
        }
      ]
    },
    {
      "cell_type": "code",
      "source": [
        "df.shape"
      ],
      "metadata": {
        "colab": {
          "base_uri": "https://localhost:8080/"
        },
        "id": "iUDxrmKfOaI5",
        "outputId": "4500e943-3217-43f5-bfa5-86676694bd1c"
      },
      "execution_count": null,
      "outputs": [
        {
          "output_type": "execute_result",
          "data": {
            "text/plain": [
              "(7043, 20)"
            ]
          },
          "metadata": {},
          "execution_count": 11
        }
      ]
    },
    {
      "cell_type": "code",
      "source": [
        "df.iloc[488].TotalCharges"
      ],
      "metadata": {
        "colab": {
          "base_uri": "https://localhost:8080/",
          "height": 35
        },
        "id": "IFNGnpknPtFH",
        "outputId": "ecae658e-07ca-4f63-f522-144b4ee554dc"
      },
      "execution_count": null,
      "outputs": [
        {
          "output_type": "execute_result",
          "data": {
            "application/vnd.google.colaboratory.intrinsic+json": {
              "type": "string"
            },
            "text/plain": [
              "' '"
            ]
          },
          "metadata": {},
          "execution_count": 12
        }
      ]
    },
    {
      "cell_type": "code",
      "source": [
        "df[df.TotalCharges!=' '].shape "
      ],
      "metadata": {
        "colab": {
          "base_uri": "https://localhost:8080/"
        },
        "id": "i5O2jw2_P4PX",
        "outputId": "6cf8e112-363b-4c70-d68b-a9633e810da8"
      },
      "execution_count": null,
      "outputs": [
        {
          "output_type": "execute_result",
          "data": {
            "text/plain": [
              "(7032, 20)"
            ]
          },
          "metadata": {},
          "execution_count": 13
        }
      ]
    },
    {
      "cell_type": "code",
      "source": [
        "df1 = df[df.TotalCharges!=' ']\n",
        "df1.shape"
      ],
      "metadata": {
        "colab": {
          "base_uri": "https://localhost:8080/"
        },
        "id": "Hpu_IuGOWGCq",
        "outputId": "5282a276-a67c-4676-8ab6-2fa91eada3d9"
      },
      "execution_count": null,
      "outputs": [
        {
          "output_type": "execute_result",
          "data": {
            "text/plain": [
              "(7032, 20)"
            ]
          },
          "metadata": {},
          "execution_count": 14
        }
      ]
    },
    {
      "cell_type": "code",
      "source": [
        "df1.dtypes"
      ],
      "metadata": {
        "colab": {
          "base_uri": "https://localhost:8080/"
        },
        "id": "VQqLUfHfWeBb",
        "outputId": "969f57e7-3426-4b4a-bd77-b329b8c74228"
      },
      "execution_count": null,
      "outputs": [
        {
          "output_type": "execute_result",
          "data": {
            "text/plain": [
              "gender               object\n",
              "SeniorCitizen         int64\n",
              "Partner              object\n",
              "Dependents           object\n",
              "tenure                int64\n",
              "PhoneService         object\n",
              "MultipleLines        object\n",
              "InternetService      object\n",
              "OnlineSecurity       object\n",
              "OnlineBackup         object\n",
              "DeviceProtection     object\n",
              "TechSupport          object\n",
              "StreamingTV          object\n",
              "StreamingMovies      object\n",
              "Contract             object\n",
              "PaperlessBilling     object\n",
              "PaymentMethod        object\n",
              "MonthlyCharges      float64\n",
              "TotalCharges         object\n",
              "Churn                object\n",
              "dtype: object"
            ]
          },
          "metadata": {},
          "execution_count": 15
        }
      ]
    },
    {
      "cell_type": "code",
      "source": [
        "df1.TotalCharges = pd.to_numeric(df1.TotalCharges)"
      ],
      "metadata": {
        "colab": {
          "base_uri": "https://localhost:8080/"
        },
        "id": "bpen2hrAWgr5",
        "outputId": "5da4d3c3-f1f8-4783-ad06-9202c33b4f76"
      },
      "execution_count": null,
      "outputs": [
        {
          "output_type": "stream",
          "name": "stderr",
          "text": [
            "/usr/local/lib/python3.7/dist-packages/pandas/core/generic.py:5516: SettingWithCopyWarning: \n",
            "A value is trying to be set on a copy of a slice from a DataFrame.\n",
            "Try using .loc[row_indexer,col_indexer] = value instead\n",
            "\n",
            "See the caveats in the documentation: https://pandas.pydata.org/pandas-docs/stable/user_guide/indexing.html#returning-a-view-versus-a-copy\n",
            "  self[name] = value\n"
          ]
        }
      ]
    },
    {
      "cell_type": "code",
      "source": [
        "df1.TotalCharges.values"
      ],
      "metadata": {
        "colab": {
          "base_uri": "https://localhost:8080/"
        },
        "id": "DPsuXnQSWnLy",
        "outputId": "90132762-3db0-4f1c-bd8a-234b1d7cd018"
      },
      "execution_count": null,
      "outputs": [
        {
          "output_type": "execute_result",
          "data": {
            "text/plain": [
              "array([  29.85, 1889.5 ,  108.15, ...,  346.45,  306.6 , 6844.5 ])"
            ]
          },
          "metadata": {},
          "execution_count": 17
        }
      ]
    },
    {
      "cell_type": "code",
      "source": [
        "df1[df1.Churn=='No']"
      ],
      "metadata": {
        "colab": {
          "base_uri": "https://localhost:8080/",
          "height": 627
        },
        "id": "I6wy6tlcWr3E",
        "outputId": "113bb2fb-c975-4de3-e804-a7cfe70100e1"
      },
      "execution_count": null,
      "outputs": [
        {
          "output_type": "execute_result",
          "data": {
            "text/html": [
              "\n",
              "  <div id=\"df-f6aa1281-8b57-4d66-8ac1-02663c885a99\">\n",
              "    <div class=\"colab-df-container\">\n",
              "      <div>\n",
              "<style scoped>\n",
              "    .dataframe tbody tr th:only-of-type {\n",
              "        vertical-align: middle;\n",
              "    }\n",
              "\n",
              "    .dataframe tbody tr th {\n",
              "        vertical-align: top;\n",
              "    }\n",
              "\n",
              "    .dataframe thead th {\n",
              "        text-align: right;\n",
              "    }\n",
              "</style>\n",
              "<table border=\"1\" class=\"dataframe\">\n",
              "  <thead>\n",
              "    <tr style=\"text-align: right;\">\n",
              "      <th></th>\n",
              "      <th>gender</th>\n",
              "      <th>SeniorCitizen</th>\n",
              "      <th>Partner</th>\n",
              "      <th>Dependents</th>\n",
              "      <th>tenure</th>\n",
              "      <th>PhoneService</th>\n",
              "      <th>MultipleLines</th>\n",
              "      <th>InternetService</th>\n",
              "      <th>OnlineSecurity</th>\n",
              "      <th>OnlineBackup</th>\n",
              "      <th>DeviceProtection</th>\n",
              "      <th>TechSupport</th>\n",
              "      <th>StreamingTV</th>\n",
              "      <th>StreamingMovies</th>\n",
              "      <th>Contract</th>\n",
              "      <th>PaperlessBilling</th>\n",
              "      <th>PaymentMethod</th>\n",
              "      <th>MonthlyCharges</th>\n",
              "      <th>TotalCharges</th>\n",
              "      <th>Churn</th>\n",
              "    </tr>\n",
              "  </thead>\n",
              "  <tbody>\n",
              "    <tr>\n",
              "      <th>0</th>\n",
              "      <td>Female</td>\n",
              "      <td>0</td>\n",
              "      <td>Yes</td>\n",
              "      <td>No</td>\n",
              "      <td>1</td>\n",
              "      <td>No</td>\n",
              "      <td>No phone service</td>\n",
              "      <td>DSL</td>\n",
              "      <td>No</td>\n",
              "      <td>Yes</td>\n",
              "      <td>No</td>\n",
              "      <td>No</td>\n",
              "      <td>No</td>\n",
              "      <td>No</td>\n",
              "      <td>Month-to-month</td>\n",
              "      <td>Yes</td>\n",
              "      <td>Electronic check</td>\n",
              "      <td>29.85</td>\n",
              "      <td>29.85</td>\n",
              "      <td>No</td>\n",
              "    </tr>\n",
              "    <tr>\n",
              "      <th>1</th>\n",
              "      <td>Male</td>\n",
              "      <td>0</td>\n",
              "      <td>No</td>\n",
              "      <td>No</td>\n",
              "      <td>34</td>\n",
              "      <td>Yes</td>\n",
              "      <td>No</td>\n",
              "      <td>DSL</td>\n",
              "      <td>Yes</td>\n",
              "      <td>No</td>\n",
              "      <td>Yes</td>\n",
              "      <td>No</td>\n",
              "      <td>No</td>\n",
              "      <td>No</td>\n",
              "      <td>One year</td>\n",
              "      <td>No</td>\n",
              "      <td>Mailed check</td>\n",
              "      <td>56.95</td>\n",
              "      <td>1889.50</td>\n",
              "      <td>No</td>\n",
              "    </tr>\n",
              "    <tr>\n",
              "      <th>3</th>\n",
              "      <td>Male</td>\n",
              "      <td>0</td>\n",
              "      <td>No</td>\n",
              "      <td>No</td>\n",
              "      <td>45</td>\n",
              "      <td>No</td>\n",
              "      <td>No phone service</td>\n",
              "      <td>DSL</td>\n",
              "      <td>Yes</td>\n",
              "      <td>No</td>\n",
              "      <td>Yes</td>\n",
              "      <td>Yes</td>\n",
              "      <td>No</td>\n",
              "      <td>No</td>\n",
              "      <td>One year</td>\n",
              "      <td>No</td>\n",
              "      <td>Bank transfer (automatic)</td>\n",
              "      <td>42.30</td>\n",
              "      <td>1840.75</td>\n",
              "      <td>No</td>\n",
              "    </tr>\n",
              "    <tr>\n",
              "      <th>6</th>\n",
              "      <td>Male</td>\n",
              "      <td>0</td>\n",
              "      <td>No</td>\n",
              "      <td>Yes</td>\n",
              "      <td>22</td>\n",
              "      <td>Yes</td>\n",
              "      <td>Yes</td>\n",
              "      <td>Fiber optic</td>\n",
              "      <td>No</td>\n",
              "      <td>Yes</td>\n",
              "      <td>No</td>\n",
              "      <td>No</td>\n",
              "      <td>Yes</td>\n",
              "      <td>No</td>\n",
              "      <td>Month-to-month</td>\n",
              "      <td>Yes</td>\n",
              "      <td>Credit card (automatic)</td>\n",
              "      <td>89.10</td>\n",
              "      <td>1949.40</td>\n",
              "      <td>No</td>\n",
              "    </tr>\n",
              "    <tr>\n",
              "      <th>7</th>\n",
              "      <td>Female</td>\n",
              "      <td>0</td>\n",
              "      <td>No</td>\n",
              "      <td>No</td>\n",
              "      <td>10</td>\n",
              "      <td>No</td>\n",
              "      <td>No phone service</td>\n",
              "      <td>DSL</td>\n",
              "      <td>Yes</td>\n",
              "      <td>No</td>\n",
              "      <td>No</td>\n",
              "      <td>No</td>\n",
              "      <td>No</td>\n",
              "      <td>No</td>\n",
              "      <td>Month-to-month</td>\n",
              "      <td>No</td>\n",
              "      <td>Mailed check</td>\n",
              "      <td>29.75</td>\n",
              "      <td>301.90</td>\n",
              "      <td>No</td>\n",
              "    </tr>\n",
              "    <tr>\n",
              "      <th>...</th>\n",
              "      <td>...</td>\n",
              "      <td>...</td>\n",
              "      <td>...</td>\n",
              "      <td>...</td>\n",
              "      <td>...</td>\n",
              "      <td>...</td>\n",
              "      <td>...</td>\n",
              "      <td>...</td>\n",
              "      <td>...</td>\n",
              "      <td>...</td>\n",
              "      <td>...</td>\n",
              "      <td>...</td>\n",
              "      <td>...</td>\n",
              "      <td>...</td>\n",
              "      <td>...</td>\n",
              "      <td>...</td>\n",
              "      <td>...</td>\n",
              "      <td>...</td>\n",
              "      <td>...</td>\n",
              "      <td>...</td>\n",
              "    </tr>\n",
              "    <tr>\n",
              "      <th>7037</th>\n",
              "      <td>Female</td>\n",
              "      <td>0</td>\n",
              "      <td>No</td>\n",
              "      <td>No</td>\n",
              "      <td>72</td>\n",
              "      <td>Yes</td>\n",
              "      <td>No</td>\n",
              "      <td>No</td>\n",
              "      <td>No internet service</td>\n",
              "      <td>No internet service</td>\n",
              "      <td>No internet service</td>\n",
              "      <td>No internet service</td>\n",
              "      <td>No internet service</td>\n",
              "      <td>No internet service</td>\n",
              "      <td>Two year</td>\n",
              "      <td>Yes</td>\n",
              "      <td>Bank transfer (automatic)</td>\n",
              "      <td>21.15</td>\n",
              "      <td>1419.40</td>\n",
              "      <td>No</td>\n",
              "    </tr>\n",
              "    <tr>\n",
              "      <th>7038</th>\n",
              "      <td>Male</td>\n",
              "      <td>0</td>\n",
              "      <td>Yes</td>\n",
              "      <td>Yes</td>\n",
              "      <td>24</td>\n",
              "      <td>Yes</td>\n",
              "      <td>Yes</td>\n",
              "      <td>DSL</td>\n",
              "      <td>Yes</td>\n",
              "      <td>No</td>\n",
              "      <td>Yes</td>\n",
              "      <td>Yes</td>\n",
              "      <td>Yes</td>\n",
              "      <td>Yes</td>\n",
              "      <td>One year</td>\n",
              "      <td>Yes</td>\n",
              "      <td>Mailed check</td>\n",
              "      <td>84.80</td>\n",
              "      <td>1990.50</td>\n",
              "      <td>No</td>\n",
              "    </tr>\n",
              "    <tr>\n",
              "      <th>7039</th>\n",
              "      <td>Female</td>\n",
              "      <td>0</td>\n",
              "      <td>Yes</td>\n",
              "      <td>Yes</td>\n",
              "      <td>72</td>\n",
              "      <td>Yes</td>\n",
              "      <td>Yes</td>\n",
              "      <td>Fiber optic</td>\n",
              "      <td>No</td>\n",
              "      <td>Yes</td>\n",
              "      <td>Yes</td>\n",
              "      <td>No</td>\n",
              "      <td>Yes</td>\n",
              "      <td>Yes</td>\n",
              "      <td>One year</td>\n",
              "      <td>Yes</td>\n",
              "      <td>Credit card (automatic)</td>\n",
              "      <td>103.20</td>\n",
              "      <td>7362.90</td>\n",
              "      <td>No</td>\n",
              "    </tr>\n",
              "    <tr>\n",
              "      <th>7040</th>\n",
              "      <td>Female</td>\n",
              "      <td>0</td>\n",
              "      <td>Yes</td>\n",
              "      <td>Yes</td>\n",
              "      <td>11</td>\n",
              "      <td>No</td>\n",
              "      <td>No phone service</td>\n",
              "      <td>DSL</td>\n",
              "      <td>Yes</td>\n",
              "      <td>No</td>\n",
              "      <td>No</td>\n",
              "      <td>No</td>\n",
              "      <td>No</td>\n",
              "      <td>No</td>\n",
              "      <td>Month-to-month</td>\n",
              "      <td>Yes</td>\n",
              "      <td>Electronic check</td>\n",
              "      <td>29.60</td>\n",
              "      <td>346.45</td>\n",
              "      <td>No</td>\n",
              "    </tr>\n",
              "    <tr>\n",
              "      <th>7042</th>\n",
              "      <td>Male</td>\n",
              "      <td>0</td>\n",
              "      <td>No</td>\n",
              "      <td>No</td>\n",
              "      <td>66</td>\n",
              "      <td>Yes</td>\n",
              "      <td>No</td>\n",
              "      <td>Fiber optic</td>\n",
              "      <td>Yes</td>\n",
              "      <td>No</td>\n",
              "      <td>Yes</td>\n",
              "      <td>Yes</td>\n",
              "      <td>Yes</td>\n",
              "      <td>Yes</td>\n",
              "      <td>Two year</td>\n",
              "      <td>Yes</td>\n",
              "      <td>Bank transfer (automatic)</td>\n",
              "      <td>105.65</td>\n",
              "      <td>6844.50</td>\n",
              "      <td>No</td>\n",
              "    </tr>\n",
              "  </tbody>\n",
              "</table>\n",
              "<p>5163 rows × 20 columns</p>\n",
              "</div>\n",
              "      <button class=\"colab-df-convert\" onclick=\"convertToInteractive('df-f6aa1281-8b57-4d66-8ac1-02663c885a99')\"\n",
              "              title=\"Convert this dataframe to an interactive table.\"\n",
              "              style=\"display:none;\">\n",
              "        \n",
              "  <svg xmlns=\"http://www.w3.org/2000/svg\" height=\"24px\"viewBox=\"0 0 24 24\"\n",
              "       width=\"24px\">\n",
              "    <path d=\"M0 0h24v24H0V0z\" fill=\"none\"/>\n",
              "    <path d=\"M18.56 5.44l.94 2.06.94-2.06 2.06-.94-2.06-.94-.94-2.06-.94 2.06-2.06.94zm-11 1L8.5 8.5l.94-2.06 2.06-.94-2.06-.94L8.5 2.5l-.94 2.06-2.06.94zm10 10l.94 2.06.94-2.06 2.06-.94-2.06-.94-.94-2.06-.94 2.06-2.06.94z\"/><path d=\"M17.41 7.96l-1.37-1.37c-.4-.4-.92-.59-1.43-.59-.52 0-1.04.2-1.43.59L10.3 9.45l-7.72 7.72c-.78.78-.78 2.05 0 2.83L4 21.41c.39.39.9.59 1.41.59.51 0 1.02-.2 1.41-.59l7.78-7.78 2.81-2.81c.8-.78.8-2.07 0-2.86zM5.41 20L4 18.59l7.72-7.72 1.47 1.35L5.41 20z\"/>\n",
              "  </svg>\n",
              "      </button>\n",
              "      \n",
              "  <style>\n",
              "    .colab-df-container {\n",
              "      display:flex;\n",
              "      flex-wrap:wrap;\n",
              "      gap: 12px;\n",
              "    }\n",
              "\n",
              "    .colab-df-convert {\n",
              "      background-color: #E8F0FE;\n",
              "      border: none;\n",
              "      border-radius: 50%;\n",
              "      cursor: pointer;\n",
              "      display: none;\n",
              "      fill: #1967D2;\n",
              "      height: 32px;\n",
              "      padding: 0 0 0 0;\n",
              "      width: 32px;\n",
              "    }\n",
              "\n",
              "    .colab-df-convert:hover {\n",
              "      background-color: #E2EBFA;\n",
              "      box-shadow: 0px 1px 2px rgba(60, 64, 67, 0.3), 0px 1px 3px 1px rgba(60, 64, 67, 0.15);\n",
              "      fill: #174EA6;\n",
              "    }\n",
              "\n",
              "    [theme=dark] .colab-df-convert {\n",
              "      background-color: #3B4455;\n",
              "      fill: #D2E3FC;\n",
              "    }\n",
              "\n",
              "    [theme=dark] .colab-df-convert:hover {\n",
              "      background-color: #434B5C;\n",
              "      box-shadow: 0px 1px 3px 1px rgba(0, 0, 0, 0.15);\n",
              "      filter: drop-shadow(0px 1px 2px rgba(0, 0, 0, 0.3));\n",
              "      fill: #FFFFFF;\n",
              "    }\n",
              "  </style>\n",
              "\n",
              "      <script>\n",
              "        const buttonEl =\n",
              "          document.querySelector('#df-f6aa1281-8b57-4d66-8ac1-02663c885a99 button.colab-df-convert');\n",
              "        buttonEl.style.display =\n",
              "          google.colab.kernel.accessAllowed ? 'block' : 'none';\n",
              "\n",
              "        async function convertToInteractive(key) {\n",
              "          const element = document.querySelector('#df-f6aa1281-8b57-4d66-8ac1-02663c885a99');\n",
              "          const dataTable =\n",
              "            await google.colab.kernel.invokeFunction('convertToInteractive',\n",
              "                                                     [key], {});\n",
              "          if (!dataTable) return;\n",
              "\n",
              "          const docLinkHtml = 'Like what you see? Visit the ' +\n",
              "            '<a target=\"_blank\" href=https://colab.research.google.com/notebooks/data_table.ipynb>data table notebook</a>'\n",
              "            + ' to learn more about interactive tables.';\n",
              "          element.innerHTML = '';\n",
              "          dataTable['output_type'] = 'display_data';\n",
              "          await google.colab.output.renderOutput(dataTable, element);\n",
              "          const docLink = document.createElement('div');\n",
              "          docLink.innerHTML = docLinkHtml;\n",
              "          element.appendChild(docLink);\n",
              "        }\n",
              "      </script>\n",
              "    </div>\n",
              "  </div>\n",
              "  "
            ],
            "text/plain": [
              "      gender  SeniorCitizen Partner Dependents  tenure PhoneService  \\\n",
              "0     Female              0     Yes         No       1           No   \n",
              "1       Male              0      No         No      34          Yes   \n",
              "3       Male              0      No         No      45           No   \n",
              "6       Male              0      No        Yes      22          Yes   \n",
              "7     Female              0      No         No      10           No   \n",
              "...      ...            ...     ...        ...     ...          ...   \n",
              "7037  Female              0      No         No      72          Yes   \n",
              "7038    Male              0     Yes        Yes      24          Yes   \n",
              "7039  Female              0     Yes        Yes      72          Yes   \n",
              "7040  Female              0     Yes        Yes      11           No   \n",
              "7042    Male              0      No         No      66          Yes   \n",
              "\n",
              "         MultipleLines InternetService       OnlineSecurity  \\\n",
              "0     No phone service             DSL                   No   \n",
              "1                   No             DSL                  Yes   \n",
              "3     No phone service             DSL                  Yes   \n",
              "6                  Yes     Fiber optic                   No   \n",
              "7     No phone service             DSL                  Yes   \n",
              "...                ...             ...                  ...   \n",
              "7037                No              No  No internet service   \n",
              "7038               Yes             DSL                  Yes   \n",
              "7039               Yes     Fiber optic                   No   \n",
              "7040  No phone service             DSL                  Yes   \n",
              "7042                No     Fiber optic                  Yes   \n",
              "\n",
              "             OnlineBackup     DeviceProtection          TechSupport  \\\n",
              "0                     Yes                   No                   No   \n",
              "1                      No                  Yes                   No   \n",
              "3                      No                  Yes                  Yes   \n",
              "6                     Yes                   No                   No   \n",
              "7                      No                   No                   No   \n",
              "...                   ...                  ...                  ...   \n",
              "7037  No internet service  No internet service  No internet service   \n",
              "7038                   No                  Yes                  Yes   \n",
              "7039                  Yes                  Yes                   No   \n",
              "7040                   No                   No                   No   \n",
              "7042                   No                  Yes                  Yes   \n",
              "\n",
              "              StreamingTV      StreamingMovies        Contract  \\\n",
              "0                      No                   No  Month-to-month   \n",
              "1                      No                   No        One year   \n",
              "3                      No                   No        One year   \n",
              "6                     Yes                   No  Month-to-month   \n",
              "7                      No                   No  Month-to-month   \n",
              "...                   ...                  ...             ...   \n",
              "7037  No internet service  No internet service        Two year   \n",
              "7038                  Yes                  Yes        One year   \n",
              "7039                  Yes                  Yes        One year   \n",
              "7040                   No                   No  Month-to-month   \n",
              "7042                  Yes                  Yes        Two year   \n",
              "\n",
              "     PaperlessBilling              PaymentMethod  MonthlyCharges  \\\n",
              "0                 Yes           Electronic check           29.85   \n",
              "1                  No               Mailed check           56.95   \n",
              "3                  No  Bank transfer (automatic)           42.30   \n",
              "6                 Yes    Credit card (automatic)           89.10   \n",
              "7                  No               Mailed check           29.75   \n",
              "...               ...                        ...             ...   \n",
              "7037              Yes  Bank transfer (automatic)           21.15   \n",
              "7038              Yes               Mailed check           84.80   \n",
              "7039              Yes    Credit card (automatic)          103.20   \n",
              "7040              Yes           Electronic check           29.60   \n",
              "7042              Yes  Bank transfer (automatic)          105.65   \n",
              "\n",
              "      TotalCharges Churn  \n",
              "0            29.85    No  \n",
              "1          1889.50    No  \n",
              "3          1840.75    No  \n",
              "6          1949.40    No  \n",
              "7           301.90    No  \n",
              "...            ...   ...  \n",
              "7037       1419.40    No  \n",
              "7038       1990.50    No  \n",
              "7039       7362.90    No  \n",
              "7040        346.45    No  \n",
              "7042       6844.50    No  \n",
              "\n",
              "[5163 rows x 20 columns]"
            ]
          },
          "metadata": {},
          "execution_count": 18
        }
      ]
    },
    {
      "cell_type": "code",
      "source": [
        "tenure_churn_no = df1[df1.Churn=='No'].tenure\n",
        "tenure_churn_yes = df1[df1.Churn=='Yes'].tenure\n",
        "\n",
        "plt.xlabel(\"tenure\")\n",
        "plt.ylabel(\"Number Of Customers\")\n",
        "plt.title(\"Customer Churn Prediction Visualiztion\")\n",
        "\n",
        "blood_sugar_men = [113, 85, 90, 150, 149, 88, 93, 115, 135, 80, 77, 82, 129]\n",
        "blood_sugar_women = [67, 98, 89, 120, 133, 150, 84, 69, 89, 79, 120, 112, 100]\n",
        "\n",
        "plt.hist([tenure_churn_yes, tenure_churn_no], rwidth=0.95, color=['green','red'],label=['Churn=Yes','Churn=No'])\n",
        "plt.legend()"
      ],
      "metadata": {
        "colab": {
          "base_uri": "https://localhost:8080/",
          "height": 402
        },
        "id": "hqSTMJ6FW1EM",
        "outputId": "3c0efbf6-a000-44c2-b5ad-eab9d40ff104"
      },
      "execution_count": null,
      "outputs": [
        {
          "output_type": "stream",
          "name": "stderr",
          "text": [
            "/usr/local/lib/python3.7/dist-packages/numpy/core/fromnumeric.py:3208: VisibleDeprecationWarning: Creating an ndarray from ragged nested sequences (which is a list-or-tuple of lists-or-tuples-or ndarrays with different lengths or shapes) is deprecated. If you meant to do this, you must specify 'dtype=object' when creating the ndarray.\n",
            "  return asarray(a).size\n",
            "/usr/local/lib/python3.7/dist-packages/matplotlib/cbook/__init__.py:1376: VisibleDeprecationWarning: Creating an ndarray from ragged nested sequences (which is a list-or-tuple of lists-or-tuples-or ndarrays with different lengths or shapes) is deprecated. If you meant to do this, you must specify 'dtype=object' when creating the ndarray.\n",
            "  X = np.atleast_1d(X.T if isinstance(X, np.ndarray) else np.asarray(X))\n"
          ]
        },
        {
          "output_type": "execute_result",
          "data": {
            "text/plain": [
              "<matplotlib.legend.Legend at 0x7efc958b2b90>"
            ]
          },
          "metadata": {},
          "execution_count": 19
        },
        {
          "output_type": "display_data",
          "data": {
            "image/png": "[encoded data removed]",
            "text/plain": [
              "<Figure size 432x288 with 1 Axes>"
            ]
          },
          "metadata": {
            "needs_background": "light"
          }
        }
      ]
    },
    {
      "cell_type": "code",
      "source": [
        "mc_churn_no = df1[df1.Churn=='No'].MonthlyCharges      \n",
        "mc_churn_yes = df1[df1.Churn=='Yes'].MonthlyCharges      \n",
        "\n",
        "plt.xlabel(\"Monthly Charges\")\n",
        "plt.ylabel(\"Number Of Customers\")\n",
        "plt.title(\"Customer Churn Prediction Visualiztion\")\n",
        "\n",
        "blood_sugar_men = [113, 85, 90, 150, 149, 88, 93, 115, 135, 80, 77, 82, 129]\n",
        "blood_sugar_women = [67, 98, 89, 120, 133, 150, 84, 69, 89, 79, 120, 112, 100]\n",
        "\n",
        "plt.hist([mc_churn_yes, mc_churn_no], rwidth=0.95, color=['green','red'],label=['Churn=Yes','Churn=No'])\n",
        "plt.legend()"
      ],
      "metadata": {
        "colab": {
          "base_uri": "https://localhost:8080/",
          "height": 402
        },
        "id": "6MnzQRQDW5BS",
        "outputId": "38477826-1b25-419d-b1e4-1917ed1d5176"
      },
      "execution_count": null,
      "outputs": [
        {
          "output_type": "stream",
          "name": "stderr",
          "text": [
            "/usr/local/lib/python3.7/dist-packages/numpy/core/fromnumeric.py:3208: VisibleDeprecationWarning: Creating an ndarray from ragged nested sequences (which is a list-or-tuple of lists-or-tuples-or ndarrays with different lengths or shapes) is deprecated. If you meant to do this, you must specify 'dtype=object' when creating the ndarray.\n",
            "  return asarray(a).size\n",
            "/usr/local/lib/python3.7/dist-packages/matplotlib/cbook/__init__.py:1376: VisibleDeprecationWarning: Creating an ndarray from ragged nested sequences (which is a list-or-tuple of lists-or-tuples-or ndarrays with different lengths or shapes) is deprecated. If you meant to do this, you must specify 'dtype=object' when creating the ndarray.\n",
            "  X = np.atleast_1d(X.T if isinstance(X, np.ndarray) else np.asarray(X))\n"
          ]
        },
        {
          "output_type": "execute_result",
          "data": {
            "text/plain": [
              "<matplotlib.legend.Legend at 0x7efc956620d0>"
            ]
          },
          "metadata": {},
          "execution_count": 20
        },
        {
          "output_type": "display_data",
          "data": {
            "image/png": "[encoded data removed]",
            "text/plain": [
              "<Figure size 432x288 with 1 Axes>"
            ]
          },
          "metadata": {
            "needs_background": "light"
          }
        }
      ]
    },
    {
      "cell_type": "code",
      "source": [
        "def print_unique_col_values(df):\n",
        "       for column in df:\n",
        "            if df[column].dtypes=='object':\n",
        "                print(f'{column}: {df[column].unique()}') "
      ],
      "metadata": {
        "id": "jvpL9tj9W5Kq"
      },
      "execution_count": null,
      "outputs": []
    },
    {
      "cell_type": "code",
      "source": [
        "print_unique_col_values(df1)"
      ],
      "metadata": {
        "colab": {
          "base_uri": "https://localhost:8080/"
        },
        "id": "v_pX9HqjXHm0",
        "outputId": "d10a36bd-935b-4526-cb31-e65dea82ed06"
      },
      "execution_count": null,
      "outputs": [
        {
          "output_type": "stream",
          "name": "stdout",
          "text": [
            "gender: ['Female' 'Male']\n",
            "Partner: ['Yes' 'No']\n",
            "Dependents: ['No' 'Yes']\n",
            "PhoneService: ['No' 'Yes']\n",
            "MultipleLines: ['No phone service' 'No' 'Yes']\n",
            "InternetService: ['DSL' 'Fiber optic' 'No']\n",
            "OnlineSecurity: ['No' 'Yes' 'No internet service']\n",
            "OnlineBackup: ['Yes' 'No' 'No internet service']\n",
            "DeviceProtection: ['No' 'Yes' 'No internet service']\n",
            "TechSupport: ['No' 'Yes' 'No internet service']\n",
            "StreamingTV: ['No' 'Yes' 'No internet service']\n",
            "StreamingMovies: ['No' 'Yes' 'No internet service']\n",
            "Contract: ['Month-to-month' 'One year' 'Two year']\n",
            "PaperlessBilling: ['Yes' 'No']\n",
            "PaymentMethod: ['Electronic check' 'Mailed check' 'Bank transfer (automatic)'\n",
            " 'Credit card (automatic)']\n",
            "Churn: ['No' 'Yes']\n"
          ]
        }
      ]
    },
    {
      "cell_type": "code",
      "source": [
        "df1.replace('No internet service','No',inplace=True)\n",
        "df1.replace('No phone service','No',inplace=True)"
      ],
      "metadata": {
        "colab": {
          "base_uri": "https://localhost:8080/"
        },
        "id": "Rd7E5UhKXKxx",
        "outputId": "423b3d5a-d89b-4190-a2f3-3ae5060a9841"
      },
      "execution_count": null,
      "outputs": [
        {
          "output_type": "stream",
          "name": "stderr",
          "text": [
            "/usr/local/lib/python3.7/dist-packages/pandas/core/frame.py:5244: SettingWithCopyWarning: \n",
            "A value is trying to be set on a copy of a slice from a DataFrame\n",
            "\n",
            "See the caveats in the documentation: https://pandas.pydata.org/pandas-docs/stable/user_guide/indexing.html#returning-a-view-versus-a-copy\n",
            "  method=method,\n"
          ]
        }
      ]
    },
    {
      "cell_type": "code",
      "source": [
        "print_unique_col_values(df1)"
      ],
      "metadata": {
        "colab": {
          "base_uri": "https://localhost:8080/"
        },
        "id": "VxYkboI2XXQn",
        "outputId": "3a2357f0-56c0-44be-b1f8-0effbdc7a294"
      },
      "execution_count": null,
      "outputs": [
        {
          "output_type": "stream",
          "name": "stdout",
          "text": [
            "gender: ['Female' 'Male']\n",
            "Partner: ['Yes' 'No']\n",
            "Dependents: ['No' 'Yes']\n",
            "PhoneService: ['No' 'Yes']\n",
            "MultipleLines: ['No' 'Yes']\n",
            "InternetService: ['DSL' 'Fiber optic' 'No']\n",
            "OnlineSecurity: ['No' 'Yes']\n",
            "OnlineBackup: ['Yes' 'No']\n",
            "DeviceProtection: ['No' 'Yes']\n",
            "TechSupport: ['No' 'Yes']\n",
            "StreamingTV: ['No' 'Yes']\n",
            "StreamingMovies: ['No' 'Yes']\n",
            "Contract: ['Month-to-month' 'One year' 'Two year']\n",
            "PaperlessBilling: ['Yes' 'No']\n",
            "PaymentMethod: ['Electronic check' 'Mailed check' 'Bank transfer (automatic)'\n",
            " 'Credit card (automatic)']\n",
            "Churn: ['No' 'Yes']\n"
          ]
        }
      ]
    },
    {
      "cell_type": "code",
      "source": [
        "yes_no_columns = ['Partner','Dependents','PhoneService','MultipleLines','OnlineSecurity','OnlineBackup',\n",
        "                  'DeviceProtection','TechSupport','StreamingTV','StreamingMovies','PaperlessBilling','Churn']\n",
        "for col in yes_no_columns:\n",
        "    df1[col].replace({'Yes': 1,'No': 0},inplace=True)"
      ],
      "metadata": {
        "colab": {
          "base_uri": "https://localhost:8080/"
        },
        "id": "vsunUZ5eYBmW",
        "outputId": "1e57f92f-00a9-408e-a78e-c9b3ec68a272"
      },
      "execution_count": null,
      "outputs": [
        {
          "output_type": "stream",
          "name": "stderr",
          "text": [
            "/usr/local/lib/python3.7/dist-packages/pandas/core/generic.py:6619: SettingWithCopyWarning: \n",
            "A value is trying to be set on a copy of a slice from a DataFrame\n",
            "\n",
            "See the caveats in the documentation: https://pandas.pydata.org/pandas-docs/stable/user_guide/indexing.html#returning-a-view-versus-a-copy\n",
            "  return self._update_inplace(result)\n"
          ]
        }
      ]
    },
    {
      "cell_type": "code",
      "source": [
        "for col in df1:\n",
        "    print(f'{col}: {df1[col].unique()}') "
      ],
      "metadata": {
        "colab": {
          "base_uri": "https://localhost:8080/"
        },
        "id": "8myj58QnYHYk",
        "outputId": "107b18dd-ae9a-475d-9d9b-e93531a1a6af"
      },
      "execution_count": null,
      "outputs": [
        {
          "output_type": "stream",
          "name": "stdout",
          "text": [
            "gender: ['Female' 'Male']\n",
            "SeniorCitizen: [0 1]\n",
            "Partner: [1 0]\n",
            "Dependents: [0 1]\n",
            "tenure: [ 1 34  2 45  8 22 10 28 62 13 16 58 49 25 69 52 71 21 12 30 47 72 17 27\n",
            "  5 46 11 70 63 43 15 60 18 66  9  3 31 50 64 56  7 42 35 48 29 65 38 68\n",
            " 32 55 37 36 41  6  4 33 67 23 57 61 14 20 53 40 59 24 44 19 54 51 26 39]\n",
            "PhoneService: [0 1]\n",
            "MultipleLines: [0 1]\n",
            "InternetService: ['DSL' 'Fiber optic' 'No']\n",
            "OnlineSecurity: [0 1]\n",
            "OnlineBackup: [1 0]\n",
            "DeviceProtection: [0 1]\n",
            "TechSupport: [0 1]\n",
            "StreamingTV: [0 1]\n",
            "StreamingMovies: [0 1]\n",
            "Contract: ['Month-to-month' 'One year' 'Two year']\n",
            "PaperlessBilling: [1 0]\n",
            "PaymentMethod: ['Electronic check' 'Mailed check' 'Bank transfer (automatic)'\n",
            " 'Credit card (automatic)']\n",
            "MonthlyCharges: [29.85 56.95 53.85 ... 63.1  44.2  78.7 ]\n",
            "TotalCharges: [  29.85 1889.5   108.15 ...  346.45  306.6  6844.5 ]\n",
            "Churn: [0 1]\n"
          ]
        }
      ]
    },
    {
      "cell_type": "code",
      "source": [
        "df1['gender'].replace({'Female':1,'Male':0},inplace=True)"
      ],
      "metadata": {
        "colab": {
          "base_uri": "https://localhost:8080/"
        },
        "id": "ndPJ3invYHin",
        "outputId": "ea0521e7-68f8-4437-b6ab-066aaf2d1198"
      },
      "execution_count": null,
      "outputs": [
        {
          "output_type": "stream",
          "name": "stderr",
          "text": [
            "/usr/local/lib/python3.7/dist-packages/pandas/core/generic.py:6619: SettingWithCopyWarning: \n",
            "A value is trying to be set on a copy of a slice from a DataFrame\n",
            "\n",
            "See the caveats in the documentation: https://pandas.pydata.org/pandas-docs/stable/user_guide/indexing.html#returning-a-view-versus-a-copy\n",
            "  return self._update_inplace(result)\n"
          ]
        }
      ]
    },
    {
      "cell_type": "code",
      "source": [
        "df1.gender.unique()"
      ],
      "metadata": {
        "colab": {
          "base_uri": "https://localhost:8080/"
        },
        "id": "ErRkM6beYH2b",
        "outputId": "1cbd7164-d6f6-4468-9837-9a9237d36ad1"
      },
      "execution_count": null,
      "outputs": [
        {
          "output_type": "execute_result",
          "data": {
            "text/plain": [
              "array([1, 0])"
            ]
          },
          "metadata": {},
          "execution_count": 29
        }
      ]
    },
    {
      "cell_type": "code",
      "source": [
        "df2 = pd.get_dummies(data=df1, columns=['InternetService','Contract','PaymentMethod'])\n",
        "df2.columns"
      ],
      "metadata": {
        "colab": {
          "base_uri": "https://localhost:8080/"
        },
        "id": "x2eupr1GYH_z",
        "outputId": "14133edb-d6a0-4fe6-c7a7-fa00aa26815a"
      },
      "execution_count": null,
      "outputs": [
        {
          "output_type": "execute_result",
          "data": {
            "text/plain": [
              "Index(['gender', 'SeniorCitizen', 'Partner', 'Dependents', 'tenure',\n",
              "       'PhoneService', 'MultipleLines', 'OnlineSecurity', 'OnlineBackup',\n",
              "       'DeviceProtection', 'TechSupport', 'StreamingTV', 'StreamingMovies',\n",
              "       'PaperlessBilling', 'MonthlyCharges', 'TotalCharges', 'Churn',\n",
              "       'InternetService_DSL', 'InternetService_Fiber optic',\n",
              "       'InternetService_No', 'Contract_Month-to-month', 'Contract_One year',\n",
              "       'Contract_Two year', 'PaymentMethod_Bank transfer (automatic)',\n",
              "       'PaymentMethod_Credit card (automatic)',\n",
              "       'PaymentMethod_Electronic check', 'PaymentMethod_Mailed check'],\n",
              "      dtype='object')"
            ]
          },
          "metadata": {},
          "execution_count": 30
        }
      ]
    },
    {
      "cell_type": "code",
      "source": [
        "df2 = pd.get_dummies(data=df1, columns=['InternetService','Contract','PaymentMethod'])\n",
        "df2.columns"
      ],
      "metadata": {
        "colab": {
          "base_uri": "https://localhost:8080/"
        },
        "id": "l02J3ieCYIC6",
        "outputId": "871a90a1-d1f3-4062-ae86-7b3c0e594f15"
      },
      "execution_count": null,
      "outputs": [
        {
          "output_type": "execute_result",
          "data": {
            "text/plain": [
              "Index(['gender', 'SeniorCitizen', 'Partner', 'Dependents', 'tenure',\n",
              "       'PhoneService', 'MultipleLines', 'OnlineSecurity', 'OnlineBackup',\n",
              "       'DeviceProtection', 'TechSupport', 'StreamingTV', 'StreamingMovies',\n",
              "       'PaperlessBilling', 'MonthlyCharges', 'TotalCharges', 'Churn',\n",
              "       'InternetService_DSL', 'InternetService_Fiber optic',\n",
              "       'InternetService_No', 'Contract_Month-to-month', 'Contract_One year',\n",
              "       'Contract_Two year', 'PaymentMethod_Bank transfer (automatic)',\n",
              "       'PaymentMethod_Credit card (automatic)',\n",
              "       'PaymentMethod_Electronic check', 'PaymentMethod_Mailed check'],\n",
              "      dtype='object')"
            ]
          },
          "metadata": {},
          "execution_count": 31
        }
      ]
    },
    {
      "cell_type": "code",
      "source": [
        "df2.sample(5)"
      ],
      "metadata": {
        "colab": {
          "base_uri": "https://localhost:8080/",
          "height": 334
        },
        "id": "_lO5cnmRYIGz",
        "outputId": "a9f03987-6596-4053-a985-59425d8d0790"
      },
      "execution_count": null,
      "outputs": [
        {
          "output_type": "execute_result",
          "data": {
            "text/html": [
              "\n",
              "  <div id=\"df-1bd6c095-9830-43fc-bfda-e59c83581b46\">\n",
              "    <div class=\"colab-df-container\">\n",
              "      <div>\n",
              "<style scoped>\n",
              "    .dataframe tbody tr th:only-of-type {\n",
              "        vertical-align: middle;\n",
              "    }\n",
              "\n",
              "    .dataframe tbody tr th {\n",
              "        vertical-align: top;\n",
              "    }\n",
              "\n",
              "    .dataframe thead th {\n",
              "        text-align: right;\n",
              "    }\n",
              "</style>\n",
              "<table border=\"1\" class=\"dataframe\">\n",
              "  <thead>\n",
              "    <tr style=\"text-align: right;\">\n",
              "      <th></th>\n",
              "      <th>gender</th>\n",
              "      <th>SeniorCitizen</th>\n",
              "      <th>Partner</th>\n",
              "      <th>Dependents</th>\n",
              "      <th>tenure</th>\n",
              "      <th>PhoneService</th>\n",
              "      <th>MultipleLines</th>\n",
              "      <th>OnlineSecurity</th>\n",
              "      <th>OnlineBackup</th>\n",
              "      <th>DeviceProtection</th>\n",
              "      <th>...</th>\n",
              "      <th>InternetService_DSL</th>\n",
              "      <th>InternetService_Fiber optic</th>\n",
              "      <th>InternetService_No</th>\n",
              "      <th>Contract_Month-to-month</th>\n",
              "      <th>Contract_One year</th>\n",
              "      <th>Contract_Two year</th>\n",
              "      <th>PaymentMethod_Bank transfer (automatic)</th>\n",
              "      <th>PaymentMethod_Credit card (automatic)</th>\n",
              "      <th>PaymentMethod_Electronic check</th>\n",
              "      <th>PaymentMethod_Mailed check</th>\n",
              "    </tr>\n",
              "  </thead>\n",
              "  <tbody>\n",
              "    <tr>\n",
              "      <th>2257</th>\n",
              "      <td>1</td>\n",
              "      <td>0</td>\n",
              "      <td>0</td>\n",
              "      <td>0</td>\n",
              "      <td>60</td>\n",
              "      <td>1</td>\n",
              "      <td>1</td>\n",
              "      <td>0</td>\n",
              "      <td>0</td>\n",
              "      <td>1</td>\n",
              "      <td>...</td>\n",
              "      <td>1</td>\n",
              "      <td>0</td>\n",
              "      <td>0</td>\n",
              "      <td>0</td>\n",
              "      <td>1</td>\n",
              "      <td>0</td>\n",
              "      <td>0</td>\n",
              "      <td>1</td>\n",
              "      <td>0</td>\n",
              "      <td>0</td>\n",
              "    </tr>\n",
              "    <tr>\n",
              "      <th>394</th>\n",
              "      <td>1</td>\n",
              "      <td>1</td>\n",
              "      <td>1</td>\n",
              "      <td>0</td>\n",
              "      <td>42</td>\n",
              "      <td>1</td>\n",
              "      <td>1</td>\n",
              "      <td>0</td>\n",
              "      <td>0</td>\n",
              "      <td>0</td>\n",
              "      <td>...</td>\n",
              "      <td>0</td>\n",
              "      <td>1</td>\n",
              "      <td>0</td>\n",
              "      <td>1</td>\n",
              "      <td>0</td>\n",
              "      <td>0</td>\n",
              "      <td>0</td>\n",
              "      <td>0</td>\n",
              "      <td>1</td>\n",
              "      <td>0</td>\n",
              "    </tr>\n",
              "    <tr>\n",
              "      <th>1165</th>\n",
              "      <td>0</td>\n",
              "      <td>0</td>\n",
              "      <td>0</td>\n",
              "      <td>0</td>\n",
              "      <td>25</td>\n",
              "      <td>1</td>\n",
              "      <td>0</td>\n",
              "      <td>0</td>\n",
              "      <td>0</td>\n",
              "      <td>0</td>\n",
              "      <td>...</td>\n",
              "      <td>0</td>\n",
              "      <td>0</td>\n",
              "      <td>1</td>\n",
              "      <td>0</td>\n",
              "      <td>1</td>\n",
              "      <td>0</td>\n",
              "      <td>0</td>\n",
              "      <td>1</td>\n",
              "      <td>0</td>\n",
              "      <td>0</td>\n",
              "    </tr>\n",
              "    <tr>\n",
              "      <th>2259</th>\n",
              "      <td>1</td>\n",
              "      <td>0</td>\n",
              "      <td>0</td>\n",
              "      <td>0</td>\n",
              "      <td>8</td>\n",
              "      <td>1</td>\n",
              "      <td>0</td>\n",
              "      <td>0</td>\n",
              "      <td>0</td>\n",
              "      <td>0</td>\n",
              "      <td>...</td>\n",
              "      <td>0</td>\n",
              "      <td>0</td>\n",
              "      <td>1</td>\n",
              "      <td>0</td>\n",
              "      <td>0</td>\n",
              "      <td>1</td>\n",
              "      <td>0</td>\n",
              "      <td>0</td>\n",
              "      <td>0</td>\n",
              "      <td>1</td>\n",
              "    </tr>\n",
              "    <tr>\n",
              "      <th>2377</th>\n",
              "      <td>0</td>\n",
              "      <td>0</td>\n",
              "      <td>0</td>\n",
              "      <td>1</td>\n",
              "      <td>47</td>\n",
              "      <td>1</td>\n",
              "      <td>0</td>\n",
              "      <td>1</td>\n",
              "      <td>1</td>\n",
              "      <td>0</td>\n",
              "      <td>...</td>\n",
              "      <td>1</td>\n",
              "      <td>0</td>\n",
              "      <td>0</td>\n",
              "      <td>1</td>\n",
              "      <td>0</td>\n",
              "      <td>0</td>\n",
              "      <td>0</td>\n",
              "      <td>0</td>\n",
              "      <td>1</td>\n",
              "      <td>0</td>\n",
              "    </tr>\n",
              "  </tbody>\n",
              "</table>\n",
              "<p>5 rows × 27 columns</p>\n",
              "</div>\n",
              "      <button class=\"colab-df-convert\" onclick=\"convertToInteractive('df-1bd6c095-9830-43fc-bfda-e59c83581b46')\"\n",
              "              title=\"Convert this dataframe to an interactive table.\"\n",
              "              style=\"display:none;\">\n",
              "        \n",
              "  <svg xmlns=\"http://www.w3.org/2000/svg\" height=\"24px\"viewBox=\"0 0 24 24\"\n",
              "       width=\"24px\">\n",
              "    <path d=\"M0 0h24v24H0V0z\" fill=\"none\"/>\n",
              "    <path d=\"M18.56 5.44l.94 2.06.94-2.06 2.06-.94-2.06-.94-.94-2.06-.94 2.06-2.06.94zm-11 1L8.5 8.5l.94-2.06 2.06-.94-2.06-.94L8.5 2.5l-.94 2.06-2.06.94zm10 10l.94 2.06.94-2.06 2.06-.94-2.06-.94-.94-2.06-.94 2.06-2.06.94z\"/><path d=\"M17.41 7.96l-1.37-1.37c-.4-.4-.92-.59-1.43-.59-.52 0-1.04.2-1.43.59L10.3 9.45l-7.72 7.72c-.78.78-.78 2.05 0 2.83L4 21.41c.39.39.9.59 1.41.59.51 0 1.02-.2 1.41-.59l7.78-7.78 2.81-2.81c.8-.78.8-2.07 0-2.86zM5.41 20L4 18.59l7.72-7.72 1.47 1.35L5.41 20z\"/>\n",
              "  </svg>\n",
              "      </button>\n",
              "      \n",
              "  <style>\n",
              "    .colab-df-container {\n",
              "      display:flex;\n",
              "      flex-wrap:wrap;\n",
              "      gap: 12px;\n",
              "    }\n",
              "\n",
              "    .colab-df-convert {\n",
              "      background-color: #E8F0FE;\n",
              "      border: none;\n",
              "      border-radius: 50%;\n",
              "      cursor: pointer;\n",
              "      display: none;\n",
              "      fill: #1967D2;\n",
              "      height: 32px;\n",
              "      padding: 0 0 0 0;\n",
              "      width: 32px;\n",
              "    }\n",
              "\n",
              "    .colab-df-convert:hover {\n",
              "      background-color: #E2EBFA;\n",
              "      box-shadow: 0px 1px 2px rgba(60, 64, 67, 0.3), 0px 1px 3px 1px rgba(60, 64, 67, 0.15);\n",
              "      fill: #174EA6;\n",
              "    }\n",
              "\n",
              "    [theme=dark] .colab-df-convert {\n",
              "      background-color: #3B4455;\n",
              "      fill: #D2E3FC;\n",
              "    }\n",
              "\n",
              "    [theme=dark] .colab-df-convert:hover {\n",
              "      background-color: #434B5C;\n",
              "      box-shadow: 0px 1px 3px 1px rgba(0, 0, 0, 0.15);\n",
              "      filter: drop-shadow(0px 1px 2px rgba(0, 0, 0, 0.3));\n",
              "      fill: #FFFFFF;\n",
              "    }\n",
              "  </style>\n",
              "\n",
              "      <script>\n",
              "        const buttonEl =\n",
              "          document.querySelector('#df-1bd6c095-9830-43fc-bfda-e59c83581b46 button.colab-df-convert');\n",
              "        buttonEl.style.display =\n",
              "          google.colab.kernel.accessAllowed ? 'block' : 'none';\n",
              "\n",
              "        async function convertToInteractive(key) {\n",
              "          const element = document.querySelector('#df-1bd6c095-9830-43fc-bfda-e59c83581b46');\n",
              "          const dataTable =\n",
              "            await google.colab.kernel.invokeFunction('convertToInteractive',\n",
              "                                                     [key], {});\n",
              "          if (!dataTable) return;\n",
              "\n",
              "          const docLinkHtml = 'Like what you see? Visit the ' +\n",
              "            '<a target=\"_blank\" href=https://colab.research.google.com/notebooks/data_table.ipynb>data table notebook</a>'\n",
              "            + ' to learn more about interactive tables.';\n",
              "          element.innerHTML = '';\n",
              "          dataTable['output_type'] = 'display_data';\n",
              "          await google.colab.output.renderOutput(dataTable, element);\n",
              "          const docLink = document.createElement('div');\n",
              "          docLink.innerHTML = docLinkHtml;\n",
              "          element.appendChild(docLink);\n",
              "        }\n",
              "      </script>\n",
              "    </div>\n",
              "  </div>\n",
              "  "
            ],
            "text/plain": [
              "      gender  SeniorCitizen  Partner  Dependents  tenure  PhoneService  \\\n",
              "2257       1              0        0           0      60             1   \n",
              "394        1              1        1           0      42             1   \n",
              "1165       0              0        0           0      25             1   \n",
              "2259       1              0        0           0       8             1   \n",
              "2377       0              0        0           1      47             1   \n",
              "\n",
              "      MultipleLines  OnlineSecurity  OnlineBackup  DeviceProtection  ...  \\\n",
              "2257              1               0             0                 1  ...   \n",
              "394               1               0             0                 0  ...   \n",
              "1165              0               0             0                 0  ...   \n",
              "2259              0               0             0                 0  ...   \n",
              "2377              0               1             1                 0  ...   \n",
              "\n",
              "      InternetService_DSL  InternetService_Fiber optic  InternetService_No  \\\n",
              "2257                    1                            0                   0   \n",
              "394                     0                            1                   0   \n",
              "1165                    0                            0                   1   \n",
              "2259                    0                            0                   1   \n",
              "2377                    1                            0                   0   \n",
              "\n",
              "      Contract_Month-to-month  Contract_One year  Contract_Two year  \\\n",
              "2257                        0                  1                  0   \n",
              "394                         1                  0                  0   \n",
              "1165                        0                  1                  0   \n",
              "2259                        0                  0                  1   \n",
              "2377                        1                  0                  0   \n",
              "\n",
              "      PaymentMethod_Bank transfer (automatic)  \\\n",
              "2257                                        0   \n",
              "394                                         0   \n",
              "1165                                        0   \n",
              "2259                                        0   \n",
              "2377                                        0   \n",
              "\n",
              "      PaymentMethod_Credit card (automatic)  PaymentMethod_Electronic check  \\\n",
              "2257                                      1                               0   \n",
              "394                                       0                               1   \n",
              "1165                                      1                               0   \n",
              "2259                                      0                               0   \n",
              "2377                                      0                               1   \n",
              "\n",
              "      PaymentMethod_Mailed check  \n",
              "2257                           0  \n",
              "394                            0  \n",
              "1165                           0  \n",
              "2259                           1  \n",
              "2377                           0  \n",
              "\n",
              "[5 rows x 27 columns]"
            ]
          },
          "metadata": {},
          "execution_count": 32
        }
      ]
    },
    {
      "cell_type": "code",
      "source": [
        "df2.dtypes"
      ],
      "metadata": {
        "colab": {
          "base_uri": "https://localhost:8080/"
        },
        "id": "mCilJ2t0ZVcJ",
        "outputId": "d38147bc-f274-4ac8-b99d-42dfd37cbfa5"
      },
      "execution_count": null,
      "outputs": [
        {
          "output_type": "execute_result",
          "data": {
            "text/plain": [
              "gender                                       int64\n",
              "SeniorCitizen                                int64\n",
              "Partner                                      int64\n",
              "Dependents                                   int64\n",
              "tenure                                       int64\n",
              "PhoneService                                 int64\n",
              "MultipleLines                                int64\n",
              "OnlineSecurity                               int64\n",
              "OnlineBackup                                 int64\n",
              "DeviceProtection                             int64\n",
              "TechSupport                                  int64\n",
              "StreamingTV                                  int64\n",
              "StreamingMovies                              int64\n",
              "PaperlessBilling                             int64\n",
              "MonthlyCharges                             float64\n",
              "TotalCharges                               float64\n",
              "Churn                                        int64\n",
              "InternetService_DSL                          uint8\n",
              "InternetService_Fiber optic                  uint8\n",
              "InternetService_No                           uint8\n",
              "Contract_Month-to-month                      uint8\n",
              "Contract_One year                            uint8\n",
              "Contract_Two year                            uint8\n",
              "PaymentMethod_Bank transfer (automatic)      uint8\n",
              "PaymentMethod_Credit card (automatic)        uint8\n",
              "PaymentMethod_Electronic check               uint8\n",
              "PaymentMethod_Mailed check                   uint8\n",
              "dtype: object"
            ]
          },
          "metadata": {},
          "execution_count": 33
        }
      ]
    },
    {
      "cell_type": "code",
      "source": [
        "cols_to_scale = ['tenure','MonthlyCharges','TotalCharges']\n",
        "\n",
        "from sklearn.preprocessing import MinMaxScaler\n",
        "scaler = MinMaxScaler()\n",
        "df2[cols_to_scale] = scaler.fit_transform(df2[cols_to_scale])"
      ],
      "metadata": {
        "id": "Rk41P1fUZnlF"
      },
      "execution_count": null,
      "outputs": []
    },
    {
      "cell_type": "code",
      "source": [
        "for col in df2:\n",
        "    print(f'{col}: {df2[col].unique()}')"
      ],
      "metadata": {
        "colab": {
          "base_uri": "https://localhost:8080/"
        },
        "id": "RDUpkTMwZnxI",
        "outputId": "064c556a-28f3-4edd-ea53-321076bccfa4"
      },
      "execution_count": null,
      "outputs": [
        {
          "output_type": "stream",
          "name": "stdout",
          "text": [
            "gender: [1 0]\n",
            "SeniorCitizen: [0 1]\n",
            "Partner: [1 0]\n",
            "Dependents: [0 1]\n",
            "tenure: [0.         0.46478873 0.01408451 0.61971831 0.09859155 0.29577465\n",
            " 0.12676056 0.38028169 0.85915493 0.16901408 0.21126761 0.8028169\n",
            " 0.67605634 0.33802817 0.95774648 0.71830986 0.98591549 0.28169014\n",
            " 0.15492958 0.4084507  0.64788732 1.         0.22535211 0.36619718\n",
            " 0.05633803 0.63380282 0.14084507 0.97183099 0.87323944 0.5915493\n",
            " 0.1971831  0.83098592 0.23943662 0.91549296 0.11267606 0.02816901\n",
            " 0.42253521 0.69014085 0.88732394 0.77464789 0.08450704 0.57746479\n",
            " 0.47887324 0.66197183 0.3943662  0.90140845 0.52112676 0.94366197\n",
            " 0.43661972 0.76056338 0.50704225 0.49295775 0.56338028 0.07042254\n",
            " 0.04225352 0.45070423 0.92957746 0.30985915 0.78873239 0.84507042\n",
            " 0.18309859 0.26760563 0.73239437 0.54929577 0.81690141 0.32394366\n",
            " 0.6056338  0.25352113 0.74647887 0.70422535 0.35211268 0.53521127]\n",
            "PhoneService: [0 1]\n",
            "MultipleLines: [0 1]\n",
            "OnlineSecurity: [0 1]\n",
            "OnlineBackup: [1 0]\n",
            "DeviceProtection: [0 1]\n",
            "TechSupport: [0 1]\n",
            "StreamingTV: [0 1]\n",
            "StreamingMovies: [0 1]\n",
            "PaperlessBilling: [1 0]\n",
            "MonthlyCharges: [0.11542289 0.38507463 0.35422886 ... 0.44626866 0.25820896 0.60149254]\n",
            "TotalCharges: [0.0012751  0.21586661 0.01031041 ... 0.03780868 0.03321025 0.78764136]\n",
            "Churn: [0 1]\n",
            "InternetService_DSL: [1 0]\n",
            "InternetService_Fiber optic: [0 1]\n",
            "InternetService_No: [0 1]\n",
            "Contract_Month-to-month: [1 0]\n",
            "Contract_One year: [0 1]\n",
            "Contract_Two year: [0 1]\n",
            "PaymentMethod_Bank transfer (automatic): [0 1]\n",
            "PaymentMethod_Credit card (automatic): [0 1]\n",
            "PaymentMethod_Electronic check: [1 0]\n",
            "PaymentMethod_Mailed check: [0 1]\n"
          ]
        }
      ]
    },
    {
      "cell_type": "code",
      "source": [
        "X = df2.drop('Churn',axis='columns')\n",
        "y = df2['Churn']\n",
        "\n",
        "from sklearn.model_selection import train_test_split\n",
        "X_train, X_test, y_train, y_test = train_test_split(X,y,test_size=0.2,random_state=5)"
      ],
      "metadata": {
        "id": "4TSHkkYKZnz9"
      },
      "execution_count": null,
      "outputs": []
    },
    {
      "cell_type": "code",
      "source": [
        "X_train.shape"
      ],
      "metadata": {
        "colab": {
          "base_uri": "https://localhost:8080/"
        },
        "id": "m4Px2VDlZn3T",
        "outputId": "ae3a84a1-d32a-4956-c552-e90b08e50874"
      },
      "execution_count": null,
      "outputs": [
        {
          "output_type": "execute_result",
          "data": {
            "text/plain": [
              "(5625, 26)"
            ]
          },
          "metadata": {},
          "execution_count": 37
        }
      ]
    },
    {
      "cell_type": "code",
      "source": [
        "X_test.shape"
      ],
      "metadata": {
        "colab": {
          "base_uri": "https://localhost:8080/"
        },
        "id": "mrO_vOXVZn6H",
        "outputId": "9c6f8e35-e4f2-431f-f4da-336c6aed7de9"
      },
      "execution_count": null,
      "outputs": [
        {
          "output_type": "execute_result",
          "data": {
            "text/plain": [
              "(1407, 26)"
            ]
          },
          "metadata": {},
          "execution_count": 38
        }
      ]
    },
    {
      "cell_type": "code",
      "source": [
        "X_train[:10]"
      ],
      "metadata": {
        "colab": {
          "base_uri": "https://localhost:8080/",
          "height": 491
        },
        "id": "qqp8p7G4Zn84",
        "outputId": "51e69b64-8b93-4b2d-fb51-ba3587e4a9a7"
      },
      "execution_count": null,
      "outputs": [
        {
          "output_type": "execute_result",
          "data": {
            "text/html": [
              "\n",
              "  <div id=\"df-bbf0f0dc-b5da-4ad2-a08d-d090c8824e0b\">\n",
              "    <div class=\"colab-df-container\">\n",
              "      <div>\n",
              "<style scoped>\n",
              "    .dataframe tbody tr th:only-of-type {\n",
              "        vertical-align: middle;\n",
              "    }\n",
              "\n",
              "    .dataframe tbody tr th {\n",
              "        vertical-align: top;\n",
              "    }\n",
              "\n",
              "    .dataframe thead th {\n",
              "        text-align: right;\n",
              "    }\n",
              "</style>\n",
              "<table border=\"1\" class=\"dataframe\">\n",
              "  <thead>\n",
              "    <tr style=\"text-align: right;\">\n",
              "      <th></th>\n",
              "      <th>gender</th>\n",
              "      <th>SeniorCitizen</th>\n",
              "      <th>Partner</th>\n",
              "      <th>Dependents</th>\n",
              "      <th>tenure</th>\n",
              "      <th>PhoneService</th>\n",
              "      <th>MultipleLines</th>\n",
              "      <th>OnlineSecurity</th>\n",
              "      <th>OnlineBackup</th>\n",
              "      <th>DeviceProtection</th>\n",
              "      <th>...</th>\n",
              "      <th>InternetService_DSL</th>\n",
              "      <th>InternetService_Fiber optic</th>\n",
              "      <th>InternetService_No</th>\n",
              "      <th>Contract_Month-to-month</th>\n",
              "      <th>Contract_One year</th>\n",
              "      <th>Contract_Two year</th>\n",
              "      <th>PaymentMethod_Bank transfer (automatic)</th>\n",
              "      <th>PaymentMethod_Credit card (automatic)</th>\n",
              "      <th>PaymentMethod_Electronic check</th>\n",
              "      <th>PaymentMethod_Mailed check</th>\n",
              "    </tr>\n",
              "  </thead>\n",
              "  <tbody>\n",
              "    <tr>\n",
              "      <th>5664</th>\n",
              "      <td>1</td>\n",
              "      <td>1</td>\n",
              "      <td>0</td>\n",
              "      <td>0</td>\n",
              "      <td>0.126761</td>\n",
              "      <td>1</td>\n",
              "      <td>0</td>\n",
              "      <td>0</td>\n",
              "      <td>0</td>\n",
              "      <td>1</td>\n",
              "      <td>...</td>\n",
              "      <td>0</td>\n",
              "      <td>1</td>\n",
              "      <td>0</td>\n",
              "      <td>1</td>\n",
              "      <td>0</td>\n",
              "      <td>0</td>\n",
              "      <td>0</td>\n",
              "      <td>1</td>\n",
              "      <td>0</td>\n",
              "      <td>0</td>\n",
              "    </tr>\n",
              "    <tr>\n",
              "      <th>101</th>\n",
              "      <td>1</td>\n",
              "      <td>0</td>\n",
              "      <td>1</td>\n",
              "      <td>1</td>\n",
              "      <td>0.000000</td>\n",
              "      <td>1</td>\n",
              "      <td>0</td>\n",
              "      <td>0</td>\n",
              "      <td>0</td>\n",
              "      <td>0</td>\n",
              "      <td>...</td>\n",
              "      <td>0</td>\n",
              "      <td>0</td>\n",
              "      <td>1</td>\n",
              "      <td>1</td>\n",
              "      <td>0</td>\n",
              "      <td>0</td>\n",
              "      <td>0</td>\n",
              "      <td>0</td>\n",
              "      <td>1</td>\n",
              "      <td>0</td>\n",
              "    </tr>\n",
              "    <tr>\n",
              "      <th>2621</th>\n",
              "      <td>0</td>\n",
              "      <td>0</td>\n",
              "      <td>1</td>\n",
              "      <td>0</td>\n",
              "      <td>0.985915</td>\n",
              "      <td>1</td>\n",
              "      <td>0</td>\n",
              "      <td>0</td>\n",
              "      <td>1</td>\n",
              "      <td>1</td>\n",
              "      <td>...</td>\n",
              "      <td>1</td>\n",
              "      <td>0</td>\n",
              "      <td>0</td>\n",
              "      <td>0</td>\n",
              "      <td>0</td>\n",
              "      <td>1</td>\n",
              "      <td>0</td>\n",
              "      <td>1</td>\n",
              "      <td>0</td>\n",
              "      <td>0</td>\n",
              "    </tr>\n",
              "    <tr>\n",
              "      <th>392</th>\n",
              "      <td>1</td>\n",
              "      <td>1</td>\n",
              "      <td>0</td>\n",
              "      <td>0</td>\n",
              "      <td>0.014085</td>\n",
              "      <td>1</td>\n",
              "      <td>0</td>\n",
              "      <td>0</td>\n",
              "      <td>0</td>\n",
              "      <td>0</td>\n",
              "      <td>...</td>\n",
              "      <td>1</td>\n",
              "      <td>0</td>\n",
              "      <td>0</td>\n",
              "      <td>1</td>\n",
              "      <td>0</td>\n",
              "      <td>0</td>\n",
              "      <td>0</td>\n",
              "      <td>0</td>\n",
              "      <td>1</td>\n",
              "      <td>0</td>\n",
              "    </tr>\n",
              "    <tr>\n",
              "      <th>1327</th>\n",
              "      <td>0</td>\n",
              "      <td>0</td>\n",
              "      <td>1</td>\n",
              "      <td>0</td>\n",
              "      <td>0.816901</td>\n",
              "      <td>1</td>\n",
              "      <td>1</td>\n",
              "      <td>0</td>\n",
              "      <td>0</td>\n",
              "      <td>1</td>\n",
              "      <td>...</td>\n",
              "      <td>0</td>\n",
              "      <td>1</td>\n",
              "      <td>0</td>\n",
              "      <td>0</td>\n",
              "      <td>1</td>\n",
              "      <td>0</td>\n",
              "      <td>1</td>\n",
              "      <td>0</td>\n",
              "      <td>0</td>\n",
              "      <td>0</td>\n",
              "    </tr>\n",
              "    <tr>\n",
              "      <th>3607</th>\n",
              "      <td>1</td>\n",
              "      <td>0</td>\n",
              "      <td>0</td>\n",
              "      <td>0</td>\n",
              "      <td>0.169014</td>\n",
              "      <td>1</td>\n",
              "      <td>0</td>\n",
              "      <td>1</td>\n",
              "      <td>0</td>\n",
              "      <td>0</td>\n",
              "      <td>...</td>\n",
              "      <td>1</td>\n",
              "      <td>0</td>\n",
              "      <td>0</td>\n",
              "      <td>0</td>\n",
              "      <td>1</td>\n",
              "      <td>0</td>\n",
              "      <td>0</td>\n",
              "      <td>0</td>\n",
              "      <td>0</td>\n",
              "      <td>1</td>\n",
              "    </tr>\n",
              "    <tr>\n",
              "      <th>2773</th>\n",
              "      <td>0</td>\n",
              "      <td>0</td>\n",
              "      <td>1</td>\n",
              "      <td>0</td>\n",
              "      <td>0.323944</td>\n",
              "      <td>0</td>\n",
              "      <td>0</td>\n",
              "      <td>0</td>\n",
              "      <td>0</td>\n",
              "      <td>1</td>\n",
              "      <td>...</td>\n",
              "      <td>1</td>\n",
              "      <td>0</td>\n",
              "      <td>0</td>\n",
              "      <td>1</td>\n",
              "      <td>0</td>\n",
              "      <td>0</td>\n",
              "      <td>0</td>\n",
              "      <td>0</td>\n",
              "      <td>1</td>\n",
              "      <td>0</td>\n",
              "    </tr>\n",
              "    <tr>\n",
              "      <th>1936</th>\n",
              "      <td>1</td>\n",
              "      <td>0</td>\n",
              "      <td>1</td>\n",
              "      <td>0</td>\n",
              "      <td>0.704225</td>\n",
              "      <td>1</td>\n",
              "      <td>0</td>\n",
              "      <td>1</td>\n",
              "      <td>1</td>\n",
              "      <td>0</td>\n",
              "      <td>...</td>\n",
              "      <td>1</td>\n",
              "      <td>0</td>\n",
              "      <td>0</td>\n",
              "      <td>0</td>\n",
              "      <td>1</td>\n",
              "      <td>0</td>\n",
              "      <td>1</td>\n",
              "      <td>0</td>\n",
              "      <td>0</td>\n",
              "      <td>0</td>\n",
              "    </tr>\n",
              "    <tr>\n",
              "      <th>5387</th>\n",
              "      <td>0</td>\n",
              "      <td>0</td>\n",
              "      <td>0</td>\n",
              "      <td>0</td>\n",
              "      <td>0.042254</td>\n",
              "      <td>0</td>\n",
              "      <td>0</td>\n",
              "      <td>0</td>\n",
              "      <td>0</td>\n",
              "      <td>0</td>\n",
              "      <td>...</td>\n",
              "      <td>1</td>\n",
              "      <td>0</td>\n",
              "      <td>0</td>\n",
              "      <td>1</td>\n",
              "      <td>0</td>\n",
              "      <td>0</td>\n",
              "      <td>0</td>\n",
              "      <td>0</td>\n",
              "      <td>1</td>\n",
              "      <td>0</td>\n",
              "    </tr>\n",
              "    <tr>\n",
              "      <th>4331</th>\n",
              "      <td>0</td>\n",
              "      <td>0</td>\n",
              "      <td>0</td>\n",
              "      <td>0</td>\n",
              "      <td>0.985915</td>\n",
              "      <td>1</td>\n",
              "      <td>1</td>\n",
              "      <td>0</td>\n",
              "      <td>0</td>\n",
              "      <td>0</td>\n",
              "      <td>...</td>\n",
              "      <td>0</td>\n",
              "      <td>0</td>\n",
              "      <td>1</td>\n",
              "      <td>0</td>\n",
              "      <td>0</td>\n",
              "      <td>1</td>\n",
              "      <td>1</td>\n",
              "      <td>0</td>\n",
              "      <td>0</td>\n",
              "      <td>0</td>\n",
              "    </tr>\n",
              "  </tbody>\n",
              "</table>\n",
              "<p>10 rows × 26 columns</p>\n",
              "</div>\n",
              "      <button class=\"colab-df-convert\" onclick=\"convertToInteractive('df-bbf0f0dc-b5da-4ad2-a08d-d090c8824e0b')\"\n",
              "              title=\"Convert this dataframe to an interactive table.\"\n",
              "              style=\"display:none;\">\n",
              "        \n",
              "  <svg xmlns=\"http://www.w3.org/2000/svg\" height=\"24px\"viewBox=\"0 0 24 24\"\n",
              "       width=\"24px\">\n",
              "    <path d=\"M0 0h24v24H0V0z\" fill=\"none\"/>\n",
              "    <path d=\"M18.56 5.44l.94 2.06.94-2.06 2.06-.94-2.06-.94-.94-2.06-.94 2.06-2.06.94zm-11 1L8.5 8.5l.94-2.06 2.06-.94-2.06-.94L8.5 2.5l-.94 2.06-2.06.94zm10 10l.94 2.06.94-2.06 2.06-.94-2.06-.94-.94-2.06-.94 2.06-2.06.94z\"/><path d=\"M17.41 7.96l-1.37-1.37c-.4-.4-.92-.59-1.43-.59-.52 0-1.04.2-1.43.59L10.3 9.45l-7.72 7.72c-.78.78-.78 2.05 0 2.83L4 21.41c.39.39.9.59 1.41.59.51 0 1.02-.2 1.41-.59l7.78-7.78 2.81-2.81c.8-.78.8-2.07 0-2.86zM5.41 20L4 18.59l7.72-7.72 1.47 1.35L5.41 20z\"/>\n",
              "  </svg>\n",
              "      </button>\n",
              "      \n",
              "  <style>\n",
              "    .colab-df-container {\n",
              "      display:flex;\n",
              "      flex-wrap:wrap;\n",
              "      gap: 12px;\n",
              "    }\n",
              "\n",
              "    .colab-df-convert {\n",
              "      background-color: #E8F0FE;\n",
              "      border: none;\n",
              "      border-radius: 50%;\n",
              "      cursor: pointer;\n",
              "      display: none;\n",
              "      fill: #1967D2;\n",
              "      height: 32px;\n",
              "      padding: 0 0 0 0;\n",
              "      width: 32px;\n",
              "    }\n",
              "\n",
              "    .colab-df-convert:hover {\n",
              "      background-color: #E2EBFA;\n",
              "      box-shadow: 0px 1px 2px rgba(60, 64, 67, 0.3), 0px 1px 3px 1px rgba(60, 64, 67, 0.15);\n",
              "      fill: #174EA6;\n",
              "    }\n",
              "\n",
              "    [theme=dark] .colab-df-convert {\n",
              "      background-color: #3B4455;\n",
              "      fill: #D2E3FC;\n",
              "    }\n",
              "\n",
              "    [theme=dark] .colab-df-convert:hover {\n",
              "      background-color: #434B5C;\n",
              "      box-shadow: 0px 1px 3px 1px rgba(0, 0, 0, 0.15);\n",
              "      filter: drop-shadow(0px 1px 2px rgba(0, 0, 0, 0.3));\n",
              "      fill: #FFFFFF;\n",
              "    }\n",
              "  </style>\n",
              "\n",
              "      <script>\n",
              "        const buttonEl =\n",
              "          document.querySelector('#df-bbf0f0dc-b5da-4ad2-a08d-d090c8824e0b button.colab-df-convert');\n",
              "        buttonEl.style.display =\n",
              "          google.colab.kernel.accessAllowed ? 'block' : 'none';\n",
              "\n",
              "        async function convertToInteractive(key) {\n",
              "          const element = document.querySelector('#df-bbf0f0dc-b5da-4ad2-a08d-d090c8824e0b');\n",
              "          const dataTable =\n",
              "            await google.colab.kernel.invokeFunction('convertToInteractive',\n",
              "                                                     [key], {});\n",
              "          if (!dataTable) return;\n",
              "\n",
              "          const docLinkHtml = 'Like what you see? Visit the ' +\n",
              "            '<a target=\"_blank\" href=https://colab.research.google.com/notebooks/data_table.ipynb>data table notebook</a>'\n",
              "            + ' to learn more about interactive tables.';\n",
              "          element.innerHTML = '';\n",
              "          dataTable['output_type'] = 'display_data';\n",
              "          await google.colab.output.renderOutput(dataTable, element);\n",
              "          const docLink = document.createElement('div');\n",
              "          docLink.innerHTML = docLinkHtml;\n",
              "          element.appendChild(docLink);\n",
              "        }\n",
              "      </script>\n",
              "    </div>\n",
              "  </div>\n",
              "  "
            ],
            "text/plain": [
              "      gender  SeniorCitizen  Partner  Dependents    tenure  PhoneService  \\\n",
              "5664       1              1        0           0  0.126761             1   \n",
              "101        1              0        1           1  0.000000             1   \n",
              "2621       0              0        1           0  0.985915             1   \n",
              "392        1              1        0           0  0.014085             1   \n",
              "1327       0              0        1           0  0.816901             1   \n",
              "3607       1              0        0           0  0.169014             1   \n",
              "2773       0              0        1           0  0.323944             0   \n",
              "1936       1              0        1           0  0.704225             1   \n",
              "5387       0              0        0           0  0.042254             0   \n",
              "4331       0              0        0           0  0.985915             1   \n",
              "\n",
              "      MultipleLines  OnlineSecurity  OnlineBackup  DeviceProtection  ...  \\\n",
              "5664              0               0             0                 1  ...   \n",
              "101               0               0             0                 0  ...   \n",
              "2621              0               0             1                 1  ...   \n",
              "392               0               0             0                 0  ...   \n",
              "1327              1               0             0                 1  ...   \n",
              "3607              0               1             0                 0  ...   \n",
              "2773              0               0             0                 1  ...   \n",
              "1936              0               1             1                 0  ...   \n",
              "5387              0               0             0                 0  ...   \n",
              "4331              1               0             0                 0  ...   \n",
              "\n",
              "      InternetService_DSL  InternetService_Fiber optic  InternetService_No  \\\n",
              "5664                    0                            1                   0   \n",
              "101                     0                            0                   1   \n",
              "2621                    1                            0                   0   \n",
              "392                     1                            0                   0   \n",
              "1327                    0                            1                   0   \n",
              "3607                    1                            0                   0   \n",
              "2773                    1                            0                   0   \n",
              "1936                    1                            0                   0   \n",
              "5387                    1                            0                   0   \n",
              "4331                    0                            0                   1   \n",
              "\n",
              "      Contract_Month-to-month  Contract_One year  Contract_Two year  \\\n",
              "5664                        1                  0                  0   \n",
              "101                         1                  0                  0   \n",
              "2621                        0                  0                  1   \n",
              "392                         1                  0                  0   \n",
              "1327                        0                  1                  0   \n",
              "3607                        0                  1                  0   \n",
              "2773                        1                  0                  0   \n",
              "1936                        0                  1                  0   \n",
              "5387                        1                  0                  0   \n",
              "4331                        0                  0                  1   \n",
              "\n",
              "      PaymentMethod_Bank transfer (automatic)  \\\n",
              "5664                                        0   \n",
              "101                                         0   \n",
              "2621                                        0   \n",
              "392                                         0   \n",
              "1327                                        1   \n",
              "3607                                        0   \n",
              "2773                                        0   \n",
              "1936                                        1   \n",
              "5387                                        0   \n",
              "4331                                        1   \n",
              "\n",
              "      PaymentMethod_Credit card (automatic)  PaymentMethod_Electronic check  \\\n",
              "5664                                      1                               0   \n",
              "101                                       0                               1   \n",
              "2621                                      1                               0   \n",
              "392                                       0                               1   \n",
              "1327                                      0                               0   \n",
              "3607                                      0                               0   \n",
              "2773                                      0                               1   \n",
              "1936                                      0                               0   \n",
              "5387                                      0                               1   \n",
              "4331                                      0                               0   \n",
              "\n",
              "      PaymentMethod_Mailed check  \n",
              "5664                           0  \n",
              "101                            0  \n",
              "2621                           0  \n",
              "392                            0  \n",
              "1327                           0  \n",
              "3607                           1  \n",
              "2773                           0  \n",
              "1936                           0  \n",
              "5387                           0  \n",
              "4331                           0  \n",
              "\n",
              "[10 rows x 26 columns]"
            ]
          },
          "metadata": {},
          "execution_count": 39
        }
      ]
    },
    {
      "cell_type": "code",
      "source": [
        "len(X_train.columns)"
      ],
      "metadata": {
        "colab": {
          "base_uri": "https://localhost:8080/"
        },
        "id": "3dgso3KyZoAA",
        "outputId": "d3772185-cef7-4b30-99af-d89ead07c63f"
      },
      "execution_count": null,
      "outputs": [
        {
          "output_type": "execute_result",
          "data": {
            "text/plain": [
              "26"
            ]
          },
          "metadata": {},
          "execution_count": 40
        }
      ]
    },
    {
      "cell_type": "code",
      "source": [
        "import tensorflow as tf\n",
        "from tensorflow import keras\n",
        "\n",
        "\n",
        "model = keras.Sequential([\n",
        "    keras.layers.Dense(26, input_shape=(26,), activation='relu'),\n",
        "    keras.layers.Dense(15, activation='relu'),\n",
        "    keras.layers.Dense(1, activation='sigmoid')\n",
        "])\n",
        "\n",
        "# opt = keras.optimizers.Adam(learning_rate=0.01)\n",
        "\n",
        "model.compile(optimizer='adam',\n",
        "              loss='binary_crossentropy',\n",
        "              metrics=['accuracy'])\n",
        "\n",
        "model.fit(X_train, y_train, epochs=100)"
      ],
      "metadata": {
        "colab": {
          "base_uri": "https://localhost:8080/"
        },
        "id": "vIUS5JmUZoFO",
        "outputId": "b08bd41d-4e76-4e92-8105-08203654cc04"
      },
      "execution_count": null,
      "outputs": [
        {
          "output_type": "stream",
          "name": "stdout",
          "text": [
            "WARNING:tensorflow:Falling back from v2 loop because of error: Failed to find data adapter that can handle input: <class 'pandas.core.frame.DataFrame'>, <class 'NoneType'>\n",
            "Train on 5625 samples\n",
            "Epoch 1/100\n",
            "5625/5625 [==============================] - 0s 61us/sample - loss: 0.5056 - accuracy: 0.7387\n",
            "Epoch 2/100\n",
            "5625/5625 [==============================] - 0s 53us/sample - loss: 0.4380 - accuracy: 0.7730\n",
            "Epoch 3/100\n",
            "5625/5625 [==============================] - 0s 58us/sample - loss: 0.4230 - accuracy: 0.7970\n",
            "Epoch 4/100\n",
            "5625/5625 [==============================] - 0s 52us/sample - loss: 0.4166 - accuracy: 0.8048\n",
            "Epoch 5/100\n",
            "5625/5625 [==============================] - 0s 52us/sample - loss: 0.4125 - accuracy: 0.8041\n",
            "Epoch 6/100\n",
            "5625/5625 [==============================] - 0s 52us/sample - loss: 0.4089 - accuracy: 0.8066\n",
            "Epoch 7/100\n",
            "5625/5625 [==============================] - 0s 54us/sample - loss: 0.4088 - accuracy: 0.8080\n",
            "Epoch 8/100\n",
            "5625/5625 [==============================] - 0s 53us/sample - loss: 0.4060 - accuracy: 0.8078\n",
            "Epoch 9/100\n",
            "5625/5625 [==============================] - 0s 56us/sample - loss: 0.4035 - accuracy: 0.8098\n",
            "Epoch 10/100\n",
            "5625/5625 [==============================] - 0s 54us/sample - loss: 0.4034 - accuracy: 0.8110\n",
            "Epoch 11/100\n",
            "5625/5625 [==============================] - 0s 49us/sample - loss: 0.4010 - accuracy: 0.8126\n",
            "Epoch 12/100\n",
            "5625/5625 [==============================] - 0s 54us/sample - loss: 0.4012 - accuracy: 0.8130\n",
            "Epoch 13/100\n",
            "5625/5625 [==============================] - 0s 50us/sample - loss: 0.3991 - accuracy: 0.8146\n",
            "Epoch 14/100\n",
            "5625/5625 [==============================] - 0s 52us/sample - loss: 0.3982 - accuracy: 0.8153\n",
            "Epoch 15/100\n",
            "5625/5625 [==============================] - 0s 53us/sample - loss: 0.3981 - accuracy: 0.8140\n",
            "Epoch 16/100\n",
            "5625/5625 [==============================] - 0s 53us/sample - loss: 0.3965 - accuracy: 0.8156\n",
            "Epoch 17/100\n",
            "5625/5625 [==============================] - 0s 54us/sample - loss: 0.3955 - accuracy: 0.8153\n",
            "Epoch 18/100\n",
            "5625/5625 [==============================] - 0s 53us/sample - loss: 0.3956 - accuracy: 0.8183\n",
            "Epoch 19/100\n",
            "5625/5625 [==============================] - 0s 53us/sample - loss: 0.3937 - accuracy: 0.8158\n",
            "Epoch 20/100\n",
            "5625/5625 [==============================] - 0s 51us/sample - loss: 0.3937 - accuracy: 0.8167\n",
            "Epoch 21/100\n",
            "5625/5625 [==============================] - 0s 52us/sample - loss: 0.3919 - accuracy: 0.8183\n",
            "Epoch 22/100\n",
            "5625/5625 [==============================] - 0s 53us/sample - loss: 0.3916 - accuracy: 0.8169\n",
            "Epoch 23/100\n",
            "5625/5625 [==============================] - 0s 58us/sample - loss: 0.3902 - accuracy: 0.8169\n",
            "Epoch 24/100\n",
            "5625/5625 [==============================] - 0s 54us/sample - loss: 0.3897 - accuracy: 0.8196\n",
            "Epoch 25/100\n",
            "5625/5625 [==============================] - 0s 52us/sample - loss: 0.3893 - accuracy: 0.8190\n",
            "Epoch 26/100\n",
            "5625/5625 [==============================] - 0s 53us/sample - loss: 0.3878 - accuracy: 0.8197\n",
            "Epoch 27/100\n",
            "5625/5625 [==============================] - 0s 55us/sample - loss: 0.3869 - accuracy: 0.8201\n",
            "Epoch 28/100\n",
            "5625/5625 [==============================] - 0s 63us/sample - loss: 0.3863 - accuracy: 0.8196\n",
            "Epoch 29/100\n",
            "5625/5625 [==============================] - 0s 57us/sample - loss: 0.3864 - accuracy: 0.8181\n",
            "Epoch 30/100\n",
            "5625/5625 [==============================] - 0s 51us/sample - loss: 0.3855 - accuracy: 0.8213\n",
            "Epoch 31/100\n",
            "5625/5625 [==============================] - 0s 55us/sample - loss: 0.3852 - accuracy: 0.8204\n",
            "Epoch 32/100\n",
            "5625/5625 [==============================] - 0s 52us/sample - loss: 0.3840 - accuracy: 0.8212\n",
            "Epoch 33/100\n",
            "5625/5625 [==============================] - 0s 52us/sample - loss: 0.3832 - accuracy: 0.8210\n",
            "Epoch 34/100\n",
            "5625/5625 [==============================] - 0s 62us/sample - loss: 0.3823 - accuracy: 0.8229\n",
            "Epoch 35/100\n",
            "5625/5625 [==============================] - 0s 81us/sample - loss: 0.3815 - accuracy: 0.8226\n",
            "Epoch 36/100\n",
            "5625/5625 [==============================] - 0s 86us/sample - loss: 0.3817 - accuracy: 0.8219\n",
            "Epoch 37/100\n",
            "5625/5625 [==============================] - 0s 74us/sample - loss: 0.3801 - accuracy: 0.8220\n",
            "Epoch 38/100\n",
            "5625/5625 [==============================] - 0s 51us/sample - loss: 0.3796 - accuracy: 0.8215\n",
            "Epoch 39/100\n",
            "5625/5625 [==============================] - 0s 53us/sample - loss: 0.3793 - accuracy: 0.8238\n",
            "Epoch 40/100\n",
            "5625/5625 [==============================] - 0s 53us/sample - loss: 0.3782 - accuracy: 0.8276\n",
            "Epoch 41/100\n",
            "5625/5625 [==============================] - 0s 51us/sample - loss: 0.3782 - accuracy: 0.8233\n",
            "Epoch 42/100\n",
            "5625/5625 [==============================] - 0s 54us/sample - loss: 0.3782 - accuracy: 0.8220\n",
            "Epoch 43/100\n",
            "5625/5625 [==============================] - 0s 52us/sample - loss: 0.3779 - accuracy: 0.8277\n",
            "Epoch 44/100\n",
            "5625/5625 [==============================] - 0s 55us/sample - loss: 0.3767 - accuracy: 0.8236\n",
            "Epoch 45/100\n",
            "5625/5625 [==============================] - 0s 53us/sample - loss: 0.3767 - accuracy: 0.8236\n",
            "Epoch 46/100\n",
            "5625/5625 [==============================] - 0s 57us/sample - loss: 0.3760 - accuracy: 0.8267\n",
            "Epoch 47/100\n",
            "5625/5625 [==============================] - 0s 54us/sample - loss: 0.3748 - accuracy: 0.8265\n",
            "Epoch 48/100\n",
            "5625/5625 [==============================] - 0s 52us/sample - loss: 0.3739 - accuracy: 0.8279\n",
            "Epoch 49/100\n",
            "5625/5625 [==============================] - 0s 53us/sample - loss: 0.3733 - accuracy: 0.8272\n",
            "Epoch 50/100\n",
            "5625/5625 [==============================] - 0s 57us/sample - loss: 0.3730 - accuracy: 0.8281\n",
            "Epoch 51/100\n",
            "5625/5625 [==============================] - 0s 72us/sample - loss: 0.3720 - accuracy: 0.8279\n",
            "Epoch 52/100\n",
            "5625/5625 [==============================] - 0s 81us/sample - loss: 0.3721 - accuracy: 0.8274\n",
            "Epoch 53/100\n",
            "5625/5625 [==============================] - 0s 79us/sample - loss: 0.3718 - accuracy: 0.8272\n",
            "Epoch 54/100\n",
            "5625/5625 [==============================] - 0s 88us/sample - loss: 0.3702 - accuracy: 0.8265\n",
            "Epoch 55/100\n",
            "5625/5625 [==============================] - 1s 91us/sample - loss: 0.3701 - accuracy: 0.8295\n",
            "Epoch 56/100\n",
            "5625/5625 [==============================] - 1s 95us/sample - loss: 0.3698 - accuracy: 0.8283\n",
            "Epoch 57/100\n",
            "5625/5625 [==============================] - 0s 78us/sample - loss: 0.3687 - accuracy: 0.8295\n",
            "Epoch 58/100\n",
            "5625/5625 [==============================] - 0s 69us/sample - loss: 0.3681 - accuracy: 0.8297\n",
            "Epoch 59/100\n",
            "5625/5625 [==============================] - 0s 87us/sample - loss: 0.3682 - accuracy: 0.8290\n",
            "Epoch 60/100\n",
            "5625/5625 [==============================] - 0s 77us/sample - loss: 0.3668 - accuracy: 0.8283\n",
            "Epoch 61/100\n",
            "5625/5625 [==============================] - 0s 59us/sample - loss: 0.3668 - accuracy: 0.8290\n",
            "Epoch 62/100\n",
            "5625/5625 [==============================] - 0s 53us/sample - loss: 0.3662 - accuracy: 0.8299\n",
            "Epoch 63/100\n",
            "5625/5625 [==============================] - 0s 53us/sample - loss: 0.3654 - accuracy: 0.8297\n",
            "Epoch 64/100\n",
            "5625/5625 [==============================] - 0s 54us/sample - loss: 0.3656 - accuracy: 0.8309\n",
            "Epoch 65/100\n",
            "5625/5625 [==============================] - 0s 51us/sample - loss: 0.3643 - accuracy: 0.8293\n",
            "Epoch 66/100\n",
            "5625/5625 [==============================] - 0s 52us/sample - loss: 0.3638 - accuracy: 0.8320\n",
            "Epoch 67/100\n",
            "5625/5625 [==============================] - 0s 55us/sample - loss: 0.3652 - accuracy: 0.8308\n",
            "Epoch 68/100\n",
            "5625/5625 [==============================] - 0s 52us/sample - loss: 0.3626 - accuracy: 0.8299\n",
            "Epoch 69/100\n",
            "5625/5625 [==============================] - 0s 53us/sample - loss: 0.3629 - accuracy: 0.8304\n",
            "Epoch 70/100\n",
            "5625/5625 [==============================] - 0s 51us/sample - loss: 0.3613 - accuracy: 0.8318\n",
            "Epoch 71/100\n",
            "5625/5625 [==============================] - 0s 54us/sample - loss: 0.3611 - accuracy: 0.8311\n",
            "Epoch 72/100\n",
            "5625/5625 [==============================] - 0s 54us/sample - loss: 0.3611 - accuracy: 0.8292\n",
            "Epoch 73/100\n",
            "5625/5625 [==============================] - 0s 51us/sample - loss: 0.3588 - accuracy: 0.8318\n",
            "Epoch 74/100\n",
            "5625/5625 [==============================] - 0s 58us/sample - loss: 0.3613 - accuracy: 0.8292\n",
            "Epoch 75/100\n",
            "5625/5625 [==============================] - 0s 51us/sample - loss: 0.3595 - accuracy: 0.8309\n",
            "Epoch 76/100\n",
            "5625/5625 [==============================] - 0s 54us/sample - loss: 0.3591 - accuracy: 0.8295\n",
            "Epoch 77/100\n",
            "5625/5625 [==============================] - 0s 52us/sample - loss: 0.3581 - accuracy: 0.8290\n",
            "Epoch 78/100\n",
            "5625/5625 [==============================] - 0s 53us/sample - loss: 0.3579 - accuracy: 0.8329\n",
            "Epoch 79/100\n",
            "5625/5625 [==============================] - 0s 53us/sample - loss: 0.3572 - accuracy: 0.8318\n",
            "Epoch 80/100\n",
            "5625/5625 [==============================] - 0s 53us/sample - loss: 0.3572 - accuracy: 0.8324\n",
            "Epoch 81/100\n",
            "5625/5625 [==============================] - 0s 55us/sample - loss: 0.3555 - accuracy: 0.8322\n",
            "Epoch 82/100\n",
            "5625/5625 [==============================] - 0s 52us/sample - loss: 0.3551 - accuracy: 0.8338\n",
            "Epoch 83/100\n",
            "5625/5625 [==============================] - 0s 51us/sample - loss: 0.3542 - accuracy: 0.8320\n",
            "Epoch 84/100\n",
            "5625/5625 [==============================] - 0s 55us/sample - loss: 0.3542 - accuracy: 0.8340\n",
            "Epoch 85/100\n",
            "5625/5625 [==============================] - 0s 51us/sample - loss: 0.3532 - accuracy: 0.8313\n",
            "Epoch 86/100\n",
            "5625/5625 [==============================] - 0s 51us/sample - loss: 0.3520 - accuracy: 0.8325\n",
            "Epoch 87/100\n",
            "5625/5625 [==============================] - 0s 52us/sample - loss: 0.3530 - accuracy: 0.8334\n",
            "Epoch 88/100\n",
            "5625/5625 [==============================] - 0s 57us/sample - loss: 0.3523 - accuracy: 0.8336\n",
            "Epoch 89/100\n",
            "5625/5625 [==============================] - 0s 54us/sample - loss: 0.3514 - accuracy: 0.8343\n",
            "Epoch 90/100\n",
            "5625/5625 [==============================] - 0s 52us/sample - loss: 0.3506 - accuracy: 0.8347\n",
            "Epoch 91/100\n",
            "5625/5625 [==============================] - 0s 55us/sample - loss: 0.3497 - accuracy: 0.8356\n",
            "Epoch 92/100\n",
            "5625/5625 [==============================] - 0s 53us/sample - loss: 0.3493 - accuracy: 0.8341\n",
            "Epoch 93/100\n",
            "5625/5625 [==============================] - 0s 50us/sample - loss: 0.3490 - accuracy: 0.8352\n",
            "Epoch 94/100\n",
            "5625/5625 [==============================] - 0s 56us/sample - loss: 0.3488 - accuracy: 0.8375\n",
            "Epoch 95/100\n",
            "5625/5625 [==============================] - 0s 57us/sample - loss: 0.3472 - accuracy: 0.8370\n",
            "Epoch 96/100\n",
            "5625/5625 [==============================] - 0s 52us/sample - loss: 0.3465 - accuracy: 0.8348\n",
            "Epoch 97/100\n",
            "5625/5625 [==============================] - 0s 54us/sample - loss: 0.3471 - accuracy: 0.8348\n",
            "Epoch 98/100\n",
            "5625/5625 [==============================] - 0s 54us/sample - loss: 0.3465 - accuracy: 0.8368\n",
            "Epoch 99/100\n",
            "5625/5625 [==============================] - 0s 53us/sample - loss: 0.3448 - accuracy: 0.8352\n",
            "Epoch 100/100\n",
            "5625/5625 [==============================] - 0s 53us/sample - loss: 0.3459 - accuracy: 0.8386\n"
          ]
        },
        {
          "output_type": "execute_result",
          "data": {
            "text/plain": [
              "<tensorflow.python.keras.callbacks.History at 0x7efc720fe150>"
            ]
          },
          "metadata": {},
          "execution_count": 41
        }
      ]
    },
    {
      "cell_type": "code",
      "source": [
        "model.evaluate(X_test, y_test)"
      ],
      "metadata": {
        "id": "gI6GBb4IZoJE"
      },
      "execution_count": null,
      "outputs": []
    },
    {
      "cell_type": "code",
      "source": [
        "yp = model.predict(X_test)\n",
        "yp[:5]"
      ],
      "metadata": {
        "colab": {
          "base_uri": "https://localhost:8080/"
        },
        "id": "5qb6877tZoL4",
        "outputId": "e80fa747-cefa-4272-b289-12b0720e4ebc"
      },
      "execution_count": null,
      "outputs": [
        {
          "output_type": "stream",
          "name": "stdout",
          "text": [
            "WARNING:tensorflow:Falling back from v2 loop because of error: Failed to find data adapter that can handle input: <class 'pandas.core.frame.DataFrame'>, <class 'NoneType'>\n"
          ]
        },
        {
          "output_type": "execute_result",
          "data": {
            "text/plain": [
              "array([[1.6840792e-01],\n",
              "       [3.9497805e-01],\n",
              "       [6.4912438e-04],\n",
              "       [7.6107562e-01],\n",
              "       [4.4349396e-01]], dtype=float32)"
            ]
          },
          "metadata": {},
          "execution_count": 42
        }
      ]
    },
    {
      "cell_type": "code",
      "source": [
        "y_pred = []\n",
        "for element in yp:\n",
        "    if element > 0.5:\n",
        "        y_pred.append(1)\n",
        "    else:\n",
        "        y_pred.append(0)"
      ],
      "metadata": {
        "id": "8TomN-5AbrG0"
      },
      "execution_count": null,
      "outputs": []
    },
    {
      "cell_type": "code",
      "source": [
        "y_pred[:10]"
      ],
      "metadata": {
        "colab": {
          "base_uri": "https://localhost:8080/"
        },
        "id": "fMfQfwiCbvAC",
        "outputId": "b5152823-91a3-43e4-c151-4143c53ce77a"
      },
      "execution_count": null,
      "outputs": [
        {
          "output_type": "execute_result",
          "data": {
            "text/plain": [
              "[0, 0, 0, 1, 0, 1, 0, 0, 0, 0]"
            ]
          },
          "metadata": {},
          "execution_count": 44
        }
      ]
    },
    {
      "cell_type": "code",
      "source": [
        "from sklearn.metrics import confusion_matrix , classification_report\n",
        "\n",
        "print(classification_report(y_test,y_pred))"
      ],
      "metadata": {
        "colab": {
          "base_uri": "https://localhost:8080/"
        },
        "id": "yr7Svnqmbx8Z",
        "outputId": "696a662f-f074-4f14-a853-808f9f61a59c"
      },
      "execution_count": null,
      "outputs": [
        {
          "output_type": "stream",
          "name": "stdout",
          "text": [
            "              precision    recall  f1-score   support\n",
            "\n",
            "           0       0.82      0.88      0.85       999\n",
            "           1       0.64      0.52      0.57       408\n",
            "\n",
            "    accuracy                           0.78      1407\n",
            "   macro avg       0.73      0.70      0.71      1407\n",
            "weighted avg       0.77      0.78      0.77      1407\n",
            "\n"
          ]
        }
      ]
    },
    {
      "cell_type": "code",
      "source": [
        "import seaborn as sn\n",
        "cm = tf.math.confusion_matrix(labels=y_test,predictions=y_pred)\n",
        "\n",
        "plt.figure(figsize = (10,7))\n",
        "sn.heatmap(cm, annot=True, fmt='d')\n",
        "plt.xlabel('Predicted')\n",
        "plt.ylabel('Truth')"
      ],
      "metadata": {
        "colab": {
          "base_uri": "https://localhost:8080/",
          "height": 459
        },
        "id": "SRLSxi09cH5E",
        "outputId": "f4da1c70-d536-42fc-f2b1-d0745f5196e9"
      },
      "execution_count": null,
      "outputs": [
        {
          "output_type": "execute_result",
          "data": {
            "text/plain": [
              "Text(69.0, 0.5, 'Truth')"
            ]
          },
          "metadata": {},
          "execution_count": 46
        },
        {
          "output_type": "display_data",
          "data": {
            "image/png": "[encoded data removed]",
            "text/plain": [
              "<Figure size 720x504 with 2 Axes>"
            ]
          },
          "metadata": {
            "needs_background": "light"
          }
        }
      ]
    },
    {
      "cell_type": "code",
      "source": [
        "y_test.shape"
      ],
      "metadata": {
        "colab": {
          "base_uri": "https://localhost:8080/"
        },
        "id": "AM3Yh3VWcLdw",
        "outputId": "44ae593e-82fd-4e71-a354-c41ff3c10525"
      },
      "execution_count": null,
      "outputs": [
        {
          "output_type": "execute_result",
          "data": {
            "text/plain": [
              "(1407,)"
            ]
          },
          "metadata": {},
          "execution_count": 47
        }
      ]
    },
    {
      "cell_type": "code",
      "source": [
        "round((862+229)/(862+229+137+179),2)"
      ],
      "metadata": {
        "colab": {
          "base_uri": "https://localhost:8080/"
        },
        "id": "GjG2sZ74cO00",
        "outputId": "8a8d42f1-8c0d-4338-dc2d-767175f38c6a"
      },
      "execution_count": null,
      "outputs": [
        {
          "output_type": "execute_result",
          "data": {
            "text/plain": [
              "0.78"
            ]
          },
          "metadata": {},
          "execution_count": 48
        }
      ]
    },
    {
      "cell_type": "code",
      "source": [
        "round(862/(862+179),2)"
      ],
      "metadata": {
        "colab": {
          "base_uri": "https://localhost:8080/"
        },
        "id": "0E3nDVoGcRiI",
        "outputId": "287f67aa-9211-4550-b520-1ae831dfc730"
      },
      "execution_count": null,
      "outputs": [
        {
          "output_type": "execute_result",
          "data": {
            "text/plain": [
              "0.83"
            ]
          },
          "metadata": {},
          "execution_count": 49
        }
      ]
    },
    {
      "cell_type": "code",
      "source": [
        "round(229/(229+137),2)"
      ],
      "metadata": {
        "colab": {
          "base_uri": "https://localhost:8080/"
        },
        "id": "PM55FbfXcUB3",
        "outputId": "8053dc93-4846-4973-a295-77bab927fd28"
      },
      "execution_count": null,
      "outputs": [
        {
          "output_type": "execute_result",
          "data": {
            "text/plain": [
              "0.63"
            ]
          },
          "metadata": {},
          "execution_count": 50
        }
      ]
    },
    {
      "cell_type": "code",
      "source": [
        "round(862/(862+137),2)"
      ],
      "metadata": {
        "colab": {
          "base_uri": "https://localhost:8080/"
        },
        "id": "uXMAzn7icf7s",
        "outputId": "0d3cb8cc-dc5a-4cf4-96b3-b2b7acd9c89d"
      },
      "execution_count": null,
      "outputs": [
        {
          "output_type": "execute_result",
          "data": {
            "text/plain": [
              "0.86"
            ]
          },
          "metadata": {},
          "execution_count": 51
        }
      ]
    },
    {
      "cell_type": "code",
      "source": [
        "round(229/(229+179),2)"
      ],
      "metadata": {
        "colab": {
          "base_uri": "https://localhost:8080/"
        },
        "id": "MyY1hUhQciOM",
        "outputId": "a7bb60da-c770-4720-c323-4c2fa1e080e2"
      },
      "execution_count": null,
      "outputs": [
        {
          "output_type": "execute_result",
          "data": {
            "text/plain": [
              "0.56"
            ]
          },
          "metadata": {},
          "execution_count": 52
        }
      ]
    }
  ]
}