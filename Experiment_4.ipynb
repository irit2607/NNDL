{
  "nbformat": 4,
  "nbformat_minor": 0,
  "metadata": {
    "colab": {
      "name": "Experiment_4.ipynb",
      "provenance": [],
      "authorship_tag": "ABX9TyP+iVQx/ZCODu9ElnrvDIIW",
      "include_colab_link": true
    },
    "kernelspec": {
      "name": "python3",
      "display_name": "Python 3"
    },
    "language_info": {
      "name": "python"
    }
  },
  "cells": [
    {
      "cell_type": "markdown",
      "metadata": {
        "id": "view-in-github",
        "colab_type": "text"
      },
      "source": [
        "<a href=\"https://colab.research.google.com/github/irit2607/NNDL-LAB/blob/main/Experiment_4.ipynb\" target=\"_parent\"><img src=\"https://colab.research.google.com/assets/colab-badge.svg\" alt=\"Open In Colab\"/></a>"
      ]
    },
    {
      "cell_type": "markdown",
      "source": [
        "# **Experiment 4: Implementation of GAN**"
      ],
      "metadata": {
        "id": "xSdGU_wv9oBn"
      }
    },
    {
      "cell_type": "code",
      "execution_count": 1,
      "metadata": {
        "id": "8fzbSRdv8Ypl"
      },
      "outputs": [],
      "source": [
        "import tensorflow as tf"
      ]
    },
    {
      "cell_type": "code",
      "source": [
        "import glob\n",
        "import imageio\n",
        "import matplotlib.pyplot as plt\n",
        "import numpy as np\n",
        "import os\n",
        "import PIL\n",
        "from tensorflow.keras import layers\n",
        "import time\n",
        "from tqdm import tqdm\n",
        "from IPython import display"
      ],
      "metadata": {
        "id": "w2bJwJOZ8bRQ"
      },
      "execution_count": 2,
      "outputs": []
    },
    {
      "cell_type": "code",
      "source": [
        "(train_images, train_labels), (_, _) = tf.keras.datasets.mnist.load_data()"
      ],
      "metadata": {
        "colab": {
          "base_uri": "https://localhost:8080/"
        },
        "id": "ENcMB6Pc8e53",
        "outputId": "235d6267-682a-44be-ecd3-08ba28b82d12"
      },
      "execution_count": 3,
      "outputs": [
        {
          "output_type": "stream",
          "name": "stdout",
          "text": [
            "Downloading data from https://storage.googleapis.com/tensorflow/tf-keras-datasets/mnist.npz\n",
            "11493376/11490434 [==============================] - 0s 0us/step\n",
            "11501568/11490434 [==============================] - 0s 0us/step\n"
          ]
        }
      ]
    },
    {
      "cell_type": "code",
      "source": [
        "train_images = train_images.reshape(train_images.shape[0], 28, 28, 1).astype('float32')\n",
        "train_images = (train_images - 127.5) / 127.5  # Normalize the images to [-1, 1]"
      ],
      "metadata": {
        "id": "lsGanwxv8gx-"
      },
      "execution_count": 4,
      "outputs": []
    },
    {
      "cell_type": "code",
      "source": [
        "len(train_images)"
      ],
      "metadata": {
        "colab": {
          "base_uri": "https://localhost:8080/"
        },
        "id": "SWuoEL1A8i1Y",
        "outputId": "44f2b11b-9ddc-4f9d-86ad-a1f10ef88c7b"
      },
      "execution_count": 5,
      "outputs": [
        {
          "output_type": "execute_result",
          "data": {
            "text/plain": [
              "60000"
            ]
          },
          "metadata": {},
          "execution_count": 5
        }
      ]
    },
    {
      "cell_type": "code",
      "source": [
        "BUFFER_SIZE = 60000\n",
        "BATCH_SIZE = 256"
      ],
      "metadata": {
        "id": "xcXyKh8J8lAN"
      },
      "execution_count": 6,
      "outputs": []
    },
    {
      "cell_type": "code",
      "source": [
        "# Batch and shuffle the data\n",
        "train_dataset = tf.data.Dataset.from_tensor_slices(train_images)\n",
        "train_dataset = train_dataset.shuffle(BUFFER_SIZE)\n",
        "train_dataset = train_dataset.batch(BATCH_SIZE)"
      ],
      "metadata": {
        "id": "FRE91mMj8nnt"
      },
      "execution_count": 7,
      "outputs": []
    },
    {
      "cell_type": "code",
      "source": [
        "def make_generator_model():\n",
        "    model = tf.keras.Sequential()\n",
        "    model.add(layers.Dense(7*7*256, use_bias=False, input_shape=(100,)))\n",
        "    model.add(layers.BatchNormalization())\n",
        "    model.add(layers.LeakyReLU())\n",
        "\n",
        "    model.add(layers.Reshape((7, 7, 256)))\n",
        "    assert model.output_shape == (None, 7, 7, 256)  # Note: None is the batch size\n",
        "\n",
        "    model.add(layers.Conv2DTranspose(128, (5, 5), strides=(1, 1), padding='same', use_bias=False))\n",
        "    assert model.output_shape == (None, 7, 7, 128)\n",
        "    model.add(layers.BatchNormalization())\n",
        "    model.add(layers.LeakyReLU())\n",
        "\n",
        "    model.add(layers.Conv2DTranspose(64, (5, 5), strides=(2, 2), padding='same', use_bias=False))\n",
        "    assert model.output_shape == (None, 14, 14, 64)\n",
        "    model.add(layers.BatchNormalization())\n",
        "    model.add(layers.LeakyReLU())\n",
        "\n",
        "    model.add(layers.Conv2DTranspose(1, (5, 5), strides=(2, 2), padding='same', use_bias=False, activation='tanh'))\n",
        "    assert model.output_shape == (None, 28, 28, 1)\n",
        "\n",
        "    return model"
      ],
      "metadata": {
        "id": "pTsFDbAK8rN1"
      },
      "execution_count": 8,
      "outputs": []
    },
    {
      "cell_type": "code",
      "source": [
        "generator = make_generator_model()\n",
        "\n",
        "noise = tf.random.normal([1, 100])\n",
        "generated_image = generator(noise, training=False)\n",
        "\n",
        "plt.imshow(generated_image[0, :, :, 0], cmap='gray')"
      ],
      "metadata": {
        "colab": {
          "base_uri": "https://localhost:8080/",
          "height": 282
        },
        "id": "B7Xog2cA8tbF",
        "outputId": "d87a5ee1-6cea-4b03-d5e3-41bf05b7e166"
      },
      "execution_count": 9,
      "outputs": [
        {
          "output_type": "execute_result",
          "data": {
            "text/plain": [
              "<matplotlib.image.AxesImage at 0x7f05d67c6790>"
            ]
          },
          "metadata": {},
          "execution_count": 9
        },
        {
          "output_type": "display_data",
          "data": {
            "text/plain": [
              "<Figure size 432x288 with 1 Axes>"
            ],
            "image/png": "[encoded data removed]"
          },
          "metadata": {
            "needs_background": "light"
          }
        }
      ]
    },
    {
      "cell_type": "code",
      "source": [
        "generator.summary()"
      ],
      "metadata": {
        "colab": {
          "base_uri": "https://localhost:8080/"
        },
        "id": "vGB9ktuX8vqv",
        "outputId": "8586e102-a194-44e7-e413-e22a7b181384"
      },
      "execution_count": 10,
      "outputs": [
        {
          "output_type": "stream",
          "name": "stdout",
          "text": [
            "Model: \"sequential\"\n",
            "_________________________________________________________________\n",
            " Layer (type)                Output Shape              Param #   \n",
            "=================================================================\n",
            " dense (Dense)               (None, 12544)             1254400   \n",
            "                                                                 \n",
            " batch_normalization (BatchN  (None, 12544)            50176     \n",
            " ormalization)                                                   \n",
            "                                                                 \n",
            " leaky_re_lu (LeakyReLU)     (None, 12544)             0         \n",
            "                                                                 \n",
            " reshape (Reshape)           (None, 7, 7, 256)         0         \n",
            "                                                                 \n",
            " conv2d_transpose (Conv2DTra  (None, 7, 7, 128)        819200    \n",
            " nspose)                                                         \n",
            "                                                                 \n",
            " batch_normalization_1 (Batc  (None, 7, 7, 128)        512       \n",
            " hNormalization)                                                 \n",
            "                                                                 \n",
            " leaky_re_lu_1 (LeakyReLU)   (None, 7, 7, 128)         0         \n",
            "                                                                 \n",
            " conv2d_transpose_1 (Conv2DT  (None, 14, 14, 64)       204800    \n",
            " ranspose)                                                       \n",
            "                                                                 \n",
            " batch_normalization_2 (Batc  (None, 14, 14, 64)       256       \n",
            " hNormalization)                                                 \n",
            "                                                                 \n",
            " leaky_re_lu_2 (LeakyReLU)   (None, 14, 14, 64)        0         \n",
            "                                                                 \n",
            " conv2d_transpose_2 (Conv2DT  (None, 28, 28, 1)        1600      \n",
            " ranspose)                                                       \n",
            "                                                                 \n",
            "=================================================================\n",
            "Total params: 2,330,944\n",
            "Trainable params: 2,305,472\n",
            "Non-trainable params: 25,472\n",
            "_________________________________________________________________\n"
          ]
        }
      ]
    },
    {
      "cell_type": "code",
      "source": [
        "def make_discriminator_model():\n",
        "    model = tf.keras.Sequential()\n",
        "    model.add(layers.Conv2D(64, (5, 5), strides=(2, 2), padding='same',\n",
        "                                     input_shape=[28, 28, 1]))\n",
        "    model.add(layers.LeakyReLU())\n",
        "    model.add(layers.Dropout(0.3))\n",
        "\n",
        "    model.add(layers.Conv2D(128, (5, 5), strides=(2, 2), padding='same'))\n",
        "    model.add(layers.LeakyReLU())\n",
        "    model.add(layers.Dropout(0.3))\n",
        "\n",
        "    model.add(layers.Flatten())\n",
        "    model.add(layers.Dense(1))\n",
        "\n",
        "    return model"
      ],
      "metadata": {
        "id": "Oy1_CvpQ8yIX"
      },
      "execution_count": 11,
      "outputs": []
    },
    {
      "cell_type": "code",
      "source": [
        "discriminator = make_discriminator_model()\n",
        "decision = discriminator(generated_image)\n",
        "print (decision)"
      ],
      "metadata": {
        "colab": {
          "base_uri": "https://localhost:8080/"
        },
        "id": "NtsZHjjJ80I_",
        "outputId": "2828d81d-29a2-443c-a047-28b0447879b0"
      },
      "execution_count": 12,
      "outputs": [
        {
          "output_type": "stream",
          "name": "stdout",
          "text": [
            "tf.Tensor([[0.00271208]], shape=(1, 1), dtype=float32)\n"
          ]
        }
      ]
    },
    {
      "cell_type": "code",
      "source": [
        "discriminator.summary()"
      ],
      "metadata": {
        "colab": {
          "base_uri": "https://localhost:8080/"
        },
        "id": "0o-b0Xpt82CG",
        "outputId": "f4f08d95-3cf4-4f44-ff74-7e82280b6447"
      },
      "execution_count": 13,
      "outputs": [
        {
          "output_type": "stream",
          "name": "stdout",
          "text": [
            "Model: \"sequential_1\"\n",
            "_________________________________________________________________\n",
            " Layer (type)                Output Shape              Param #   \n",
            "=================================================================\n",
            " conv2d (Conv2D)             (None, 14, 14, 64)        1664      \n",
            "                                                                 \n",
            " leaky_re_lu_3 (LeakyReLU)   (None, 14, 14, 64)        0         \n",
            "                                                                 \n",
            " dropout (Dropout)           (None, 14, 14, 64)        0         \n",
            "                                                                 \n",
            " conv2d_1 (Conv2D)           (None, 7, 7, 128)         204928    \n",
            "                                                                 \n",
            " leaky_re_lu_4 (LeakyReLU)   (None, 7, 7, 128)         0         \n",
            "                                                                 \n",
            " dropout_1 (Dropout)         (None, 7, 7, 128)         0         \n",
            "                                                                 \n",
            " flatten (Flatten)           (None, 6272)              0         \n",
            "                                                                 \n",
            " dense_1 (Dense)             (None, 1)                 6273      \n",
            "                                                                 \n",
            "=================================================================\n",
            "Total params: 212,865\n",
            "Trainable params: 212,865\n",
            "Non-trainable params: 0\n",
            "_________________________________________________________________\n"
          ]
        }
      ]
    },
    {
      "cell_type": "code",
      "source": [
        "# This method returns a helper function to compute cross entropy loss\n",
        "cross_entropy = tf.keras.losses.BinaryCrossentropy(from_logits=True)"
      ],
      "metadata": {
        "id": "opkRFX3w862e"
      },
      "execution_count": 14,
      "outputs": []
    },
    {
      "cell_type": "code",
      "source": [
        "def discriminator_loss(real_output, fake_output):\n",
        "    real_loss = cross_entropy(tf.ones_like(real_output), real_output)\n",
        "    fake_loss = cross_entropy(tf.zeros_like(fake_output), fake_output)\n",
        "    total_loss = real_loss + fake_loss\n",
        "    return total_loss"
      ],
      "metadata": {
        "id": "i3Y2dRal8_Hb"
      },
      "execution_count": 15,
      "outputs": []
    },
    {
      "cell_type": "code",
      "source": [
        "def generator_loss(fake_output):\n",
        "    return cross_entropy(tf.ones_like(fake_output), fake_output)"
      ],
      "metadata": {
        "id": "iusIO82S9D1E"
      },
      "execution_count": 16,
      "outputs": []
    },
    {
      "cell_type": "code",
      "source": [
        "generator_optimizer = tf.keras.optimizers.Adam(1e-4)\n",
        "discriminator_optimizer = tf.keras.optimizers.Adam(1e-4)"
      ],
      "metadata": {
        "id": "tYhPoGzU9Fm9"
      },
      "execution_count": 17,
      "outputs": []
    },
    {
      "cell_type": "code",
      "source": [
        "checkpoint_dir = './training_checkpoints'\n",
        "checkpoint_prefix = os.path.join(checkpoint_dir, \"ckpt\")\n",
        "checkpoint = tf.train.Checkpoint(generator_optimizer=generator_optimizer,\n",
        "                                 discriminator_optimizer=discriminator_optimizer,\n",
        "                                 generator=generator,\n",
        "                                 discriminator=discriminator)"
      ],
      "metadata": {
        "id": "G7iLOz_y9HhH"
      },
      "execution_count": 18,
      "outputs": []
    },
    {
      "cell_type": "code",
      "source": [
        "EPOCHS = 50\n",
        "noise_dim = 100\n",
        "num_examples_to_generate = 16\n",
        "\n",
        "# You will reuse this seed overtime (so it's easier)\n",
        "# to visualize progress in the animated GIF)\n",
        "seed = tf.random.normal([num_examples_to_generate, noise_dim])"
      ],
      "metadata": {
        "id": "7nPpH3cE9JOk"
      },
      "execution_count": 19,
      "outputs": []
    },
    {
      "cell_type": "code",
      "source": [
        "# Notice the use of `tf.function`\n",
        "# This annotation causes the function to be \"compiled\".\n",
        "@tf.function\n",
        "def train_step(images):\n",
        "    noise = tf.random.normal([BATCH_SIZE, noise_dim])\n",
        "\n",
        "    with tf.GradientTape() as gen_tape, tf.GradientTape() as disc_tape:\n",
        "      generated_images = generator(noise, training=True)\n",
        "\n",
        "      real_output = discriminator(images, training=True)\n",
        "      fake_output = discriminator(generated_images, training=True)\n",
        "\n",
        "      gen_loss = generator_loss(fake_output)\n",
        "      disc_loss = discriminator_loss(real_output, fake_output)\n",
        "\n",
        "    gradients_of_generator = gen_tape.gradient(gen_loss, generator.trainable_variables)\n",
        "    gradients_of_discriminator = disc_tape.gradient(disc_loss, discriminator.trainable_variables)\n",
        "\n",
        "    generator_optimizer.apply_gradients(zip(gradients_of_generator, generator.trainable_variables))\n",
        "    discriminator_optimizer.apply_gradients(zip(gradients_of_discriminator, discriminator.trainable_variables))"
      ],
      "metadata": {
        "id": "99utT_Yd9LnT"
      },
      "execution_count": null,
      "outputs": []
    },
    {
      "cell_type": "code",
      "source": [
        "def train(dataset, epochs):\n",
        "  for epoch in range(epochs):\n",
        "    start = time.time()\n",
        "\n",
        "    for image_batch in dataset:\n",
        "      train_step(image_batch)\n",
        "\n",
        "    # Produce images for the GIF as you go\n",
        "    display.clear_output(wait=True)\n",
        "    generate_and_save_images(generator,\n",
        "                             epoch + 1,\n",
        "                             seed)\n",
        "\n",
        "    # Save the model every 15 epochs\n",
        "    if (epoch + 1) % 15 == 0:\n",
        "      checkpoint.save(file_prefix = checkpoint_prefix)\n",
        "\n",
        "    print ('Time for epoch {} is {} sec'.format(epoch + 1, time.time()-start))\n",
        "\n",
        "  # Generate after the final epoch\n",
        "  display.clear_output(wait=True)\n",
        "  generate_and_save_images(generator,\n",
        "                           epochs,\n",
        "                           seed)"
      ],
      "metadata": {
        "id": "AM6pZgrd9NmO"
      },
      "execution_count": null,
      "outputs": []
    },
    {
      "cell_type": "code",
      "source": [
        "def generate_and_save_images(model, epoch, test_input):\n",
        "  # Notice `training` is set to False.\n",
        "  # This is so all layers run in inference mode (batchnorm).\n",
        "  predictions = model(test_input, training=False)\n",
        "\n",
        "  fig = plt.figure(figsize=(4, 4))\n",
        "\n",
        "  for i in range(predictions.shape[0]):\n",
        "      plt.subplot(4, 4, i+1)\n",
        "      plt.imshow(predictions[i, :, :, 0] * 127.5 + 127.5, cmap='gray')\n",
        "      plt.axis('off')\n",
        "\n",
        "  plt.savefig('image_at_epoch_{:04d}.png'.format(epoch))\n",
        "  plt.show()"
      ],
      "metadata": {
        "id": "Dt19FtVt9PsI"
      },
      "execution_count": null,
      "outputs": []
    },
    {
      "cell_type": "code",
      "source": [
        "train(train_dataset, EPOCHS)"
      ],
      "metadata": {
        "id": "5cEb2-0g9QXI"
      },
      "execution_count": null,
      "outputs": []
    },
    {
      "cell_type": "markdown",
      "source": [
        "![image.png](data:image/png;base64,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)\n",
        "\n",
        "Time for epoch 50 is 716.4708027839661 sec"
      ],
      "metadata": {
        "id": "97TqjjMX9WcF"
      }
    },
    {
      "cell_type": "code",
      "source": [
        "checkpoint.restore(tf.train.latest_checkpoint(checkpoint_dir))"
      ],
      "metadata": {
        "id": "xRdWYKZb9SKm"
      },
      "execution_count": null,
      "outputs": []
    }
  ]
}